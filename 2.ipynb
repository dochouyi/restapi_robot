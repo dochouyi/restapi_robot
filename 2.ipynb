{
 "cells": [
  {
   "cell_type": "code",
   "execution_count": 79,
   "id": "initial_id",
   "metadata": {
    "collapsed": true,
    "ExecuteTime": {
     "end_time": "2025-10-29T08:59:38.164402Z",
     "start_time": "2025-10-29T08:59:38.158416Z"
    }
   },
   "outputs": [],
   "source": [
    "from freqtrade_client import FtRestClient\n",
    "\n",
    "class FreqtradeClient(FtRestClient):\n",
    "    def __init__(self, serverurl=\"http://127.0.0.1:8090\", username=\"freqtrader\", password=\"123456\"):\n",
    "        super().__init__(serverurl,username=username,password=password)\n",
    "\n",
    "\n",
    "    def force_enter_order(self, pair, side=\"long\", price=None, order_type=\"limit\", stake_amount=None, leverage=1):\n",
    "        \"\"\"\n",
    "        强制进入交易函数\n",
    "        \"\"\"\n",
    "        result = self.forceenter(\n",
    "            pair=pair,\n",
    "            side=side,\n",
    "            price=None,\n",
    "            order_type= order_type,\n",
    "            stake_amount=stake_amount,\n",
    "            enter_tag=\"force_entry\",\n",
    "            leverage=leverage\n",
    "        )\n",
    "        print(f\"强制进入 {pair} ({side}) 的结果:\", result)\n",
    "        return result\n",
    "\n",
    "\n",
    "    def force_exit_order(self, trade_id, order_type=\"limit\", amount=None):\n",
    "        \"\"\"\n",
    "        强制退出交易\n",
    "        \"\"\"\n",
    "        result = self.forceexit(trade_id, ordertype=order_type,amount=amount)\n",
    "        print(f\"退出交易 {trade_id} 的结果:\", result)\n",
    "        return result\n",
    "\n",
    "\n",
    "    # def get_trade_status(self, pair):\n",
    "    #     \"\"\"返回指定交易对的所有订单状态列表\"\"\"\n",
    "    #     trades = self.get_current_trades()\n",
    "    #     trade_status=None\n",
    "    #     for trade in trades:\n",
    "    #         if trade.get(\"pair\") == pair:\n",
    "    #             trade_status={\n",
    "    #                 \"trade_id\": trade.get(\"trade_id\"),\n",
    "    #                 \"status\": trade['orders'][0].get(\"status\"),  # 例如 open, filled, closed, partial\n",
    "    #             }\n",
    "    #     return trade_status\n",
    "\n",
    "\n",
    "    def cancel_openorder(self, trade_id):\n",
    "        \"\"\"取消未成交订单\"\"\"\n",
    "        result = self.cancel_open_order(trade_id)\n",
    "        print(f\"取消订单 {trade_id} 的结果:\", result)"
   ]
  },
  {
   "cell_type": "code",
   "outputs": [],
   "source": [
    "a=FreqtradeClient()\n",
    "pair = 'BTC/USDT:USDT'"
   ],
   "metadata": {
    "collapsed": false,
    "ExecuteTime": {
     "end_time": "2025-10-29T08:59:39.167924Z",
     "start_time": "2025-10-29T08:59:39.163178Z"
    }
   },
   "id": "b03a146c6922e6f5",
   "execution_count": 80
  },
  {
   "cell_type": "code",
   "outputs": [
    {
     "name": "stdout",
     "output_type": "stream",
     "text": [
      "强制进入 BTC/USDT:USDT (long) 的结果: {'error': 'Error querying /api/v1/forceenter: Failed to enter position for BTC/USDT:USDT.'}\n",
      "<__main__.FreqtradeClient object at 0x7f462628f590>\n"
     ]
    }
   ],
   "source": [
    "a.force_enter_order(pair,stake_amount=1000)\n",
    "print(a)"
   ],
   "metadata": {
    "collapsed": false,
    "ExecuteTime": {
     "end_time": "2025-10-29T08:59:41.156521Z",
     "start_time": "2025-10-29T08:59:40.708154Z"
    }
   },
   "id": "848ed5cb3515e29d",
   "execution_count": 81
  },
  {
   "cell_type": "code",
   "outputs": [
    {
     "name": "stdout",
     "output_type": "stream",
     "text": [
      "取消订单 1 的结果: {'error': 'Error querying /api/v1/trades/1/open-order: No open order for trade_id.'}\n"
     ]
    }
   ],
   "source": [
    "a.my_cancel_open_order(1)"
   ],
   "metadata": {
    "collapsed": false,
    "ExecuteTime": {
     "end_time": "2025-10-29T07:00:48.133439Z",
     "start_time": "2025-10-29T07:00:48.121765Z"
    }
   },
   "id": "4b0403f0e4813527",
   "execution_count": 40
  },
  {
   "cell_type": "code",
   "outputs": [
    {
     "name": "stdout",
     "output_type": "stream",
     "text": [
      "强制进入 BTC/USDT:USDT (long) 的结果: {'trade_id': 2, 'pair': 'BTC/USDT:USDT', 'base_currency': 'BTC', 'quote_currency': 'USDT', 'is_open': True, 'is_short': False, 'exchange': 'binance', 'amount': 0.008, 'amount_requested': 0.00882394, 'stake_amount': 906.624, 'max_stake_amount': 906.624, 'strategy': 'DummyStrategy', 'enter_tag': 'force_entry', 'timeframe': 60, 'fee_open': 0.0002, 'fee_open_cost': 0.1813248, 'fee_open_currency': 'USDT', 'fee_close': 0.0002, 'fee_close_cost': None, 'fee_close_currency': None, 'open_date': '2025-10-29 08:18:15', 'open_timestamp': 1761725895964, 'open_fill_date': '2025-10-29 08:18:16', 'open_fill_timestamp': 1761725896758, 'open_rate': 113328.0, 'open_rate_requested': 113328.0, 'open_trade_value': 906.8053248, 'close_date': None, 'close_timestamp': None, 'close_rate': None, 'close_rate_requested': None, 'close_profit': None, 'close_profit_pct': None, 'close_profit_abs': None, 'profit_ratio': None, 'profit_pct': None, 'profit_abs': None, 'profit_fiat': None, 'realized_profit': 0.0, 'realized_profit_ratio': None, 'exit_reason': None, 'exit_order_status': None, 'stop_loss_abs': 56664.0, 'stop_loss_ratio': -0.5, 'stop_loss_pct': -50.0, 'stoploss_last_update': None, 'stoploss_last_update_timestamp': None, 'initial_stop_loss_abs': 56664.0, 'initial_stop_loss_ratio': -0.5, 'initial_stop_loss_pct': -50.0, 'min_rate': 113226.2, 'max_rate': 113378.8, 'has_open_orders': True, 'orders': [{'pair': 'BTC/USDT:USDT', 'order_id': 'dry_run_buy_BTC/USDT:USDT_1761725895.884179', 'status': 'closed', 'remaining': 0.0, 'amount': 0.008, 'safe_price': 113328.0, 'cost': 906.624, 'filled': 0.008, 'ft_order_side': 'buy', 'order_type': 'limit', 'is_open': False, 'order_timestamp': 1761725895884, 'order_filled_timestamp': 1761725896758, 'ft_fee_base': None, 'ft_order_tag': 'force_entry'}, {'pair': 'BTC/USDT:USDT', 'order_id': 'dry_run_buy_BTC/USDT:USDT_1761726410.860711', 'status': 'open', 'remaining': 0.008, 'amount': 0.008, 'safe_price': 113274.0, 'cost': 906.192, 'filled': 0.0, 'ft_order_side': 'buy', 'order_type': 'limit', 'is_open': True, 'order_timestamp': 1761726410860, 'order_filled_timestamp': None, 'ft_fee_base': None, 'ft_order_tag': 'force_entry'}], 'leverage': 1.0, 'interest_rate': 0.0, 'liquidation_price': 5666.4, 'funding_fees': 0.0, 'trading_mode': 'futures', 'amount_precision': 0.001, 'price_precision': 0.1, 'precision_mode': 4}\n",
      "<__main__.FreqtradeClient object at 0x7f4613bf88f0>\n"
     ]
    }
   ],
   "source": [
    "a.force_enter_order(pair,stake_amount=1000)\n",
    "print(a)"
   ],
   "metadata": {
    "collapsed": false,
    "ExecuteTime": {
     "end_time": "2025-10-29T08:26:52.121448Z",
     "start_time": "2025-10-29T08:26:50.760403Z"
    }
   },
   "id": "3828a679fbb97937",
   "execution_count": 76
  },
  {
   "cell_type": "code",
   "outputs": [
    {
     "name": "stdout",
     "output_type": "stream",
     "text": [
      "[{'trade_id': 2, 'pair': 'BTC/USDT:USDT', 'base_currency': 'BTC', 'quote_currency': 'USDT', 'is_open': True, 'is_short': False, 'exchange': 'binance', 'amount': 0.087, 'amount_requested': 0.00882394, 'stake_amount': 9839.9979, 'max_stake_amount': 9839.9979, 'strategy': 'DummyStrategy', 'enter_tag': 'force_entry', 'timeframe': 60, 'fee_open': 0.0002, 'fee_open_cost': 1.96799958, 'fee_open_currency': None, 'fee_close': 0.0002, 'fee_close_cost': None, 'fee_close_currency': None, 'open_date': '2025-10-29 08:18:15', 'open_timestamp': 1761725895964, 'open_fill_date': '2025-10-29 08:47:26', 'open_fill_timestamp': 1761727646249, 'open_rate': 113103.4, 'open_rate_requested': 113328.0, 'open_trade_value': 9841.96379916, 'close_date': None, 'close_timestamp': None, 'close_rate': None, 'close_rate_requested': None, 'close_profit': None, 'close_profit_pct': None, 'close_profit_abs': None, 'profit_ratio': -0.00115468, 'profit_pct': -0.12, 'profit_abs': -11.36431236, 'profit_fiat': None, 'realized_profit': 0.0, 'realized_profit_ratio': None, 'exit_reason': None, 'exit_order_status': None, 'stop_loss_abs': 56664.0, 'stop_loss_ratio': -0.5, 'stop_loss_pct': -50.0, 'stoploss_last_update': None, 'stoploss_last_update_timestamp': None, 'initial_stop_loss_abs': 56664.0, 'initial_stop_loss_ratio': -0.5, 'initial_stop_loss_pct': -50.0, 'min_rate': 112903.1, 'max_rate': 113378.8, 'has_open_orders': False, 'orders': [{'pair': 'BTC/USDT:USDT', 'order_id': 'dry_run_buy_BTC/USDT:USDT_1761727638.395346', 'status': 'closed', 'remaining': 0.0, 'amount': 0.071, 'safe_price': 113058.9, 'cost': 8027.181899999999, 'filled': 0.071, 'ft_order_side': 'buy', 'order_type': 'limit', 'is_open': False, 'order_timestamp': 1761727638395, 'order_filled_timestamp': 1761727646249, 'ft_fee_base': None, 'ft_order_tag': 'force_entry'}], 'leverage': 1.0, 'interest_rate': 0.0, 'liquidation_price': 5655.1, 'funding_fees': 0.0, 'trading_mode': 'futures', 'amount_precision': 0.001, 'price_precision': 0.1, 'precision_mode': 4, 'stoploss_current_dist': -56354.0, 'stoploss_current_dist_pct': -49.86, 'stoploss_current_dist_ratio': -0.49862854, 'stoploss_entry_dist': -4913.18175276, 'stoploss_entry_dist_ratio': -0.49920746, 'current_rate': 113018.0, 'total_profit_abs': -11.36431236, 'total_profit_fiat': None, 'total_profit_ratio': -0.00115468}]\n"
     ]
    }
   ],
   "source": [
    "status=a.status()\n",
    "print(status)"
   ],
   "metadata": {
    "collapsed": false,
    "ExecuteTime": {
     "end_time": "2025-10-29T08:59:25.097239Z",
     "start_time": "2025-10-29T08:59:25.085172Z"
    }
   },
   "id": "df9e900947dd908e",
   "execution_count": 77
  },
  {
   "cell_type": "code",
   "outputs": [
    {
     "name": "stdout",
     "output_type": "stream",
     "text": [
      "['closed']\n"
     ]
    }
   ],
   "source": [
    "orders_status = [order['status'] for order in status[0]['orders']]\n",
    "print(orders_status)"
   ],
   "metadata": {
    "collapsed": false,
    "ExecuteTime": {
     "end_time": "2025-10-29T08:59:27.497033Z",
     "start_time": "2025-10-29T08:59:27.492255Z"
    }
   },
   "id": "499cc6f576fa74aa",
   "execution_count": 78
  },
  {
   "cell_type": "code",
   "outputs": [
    {
     "name": "stdout",
     "output_type": "stream",
     "text": [
      "退出交易 1 的结果: {'error': 'Error querying /api/v1/forceexit: invalid argument'}\n"
     ]
    },
    {
     "data": {
      "text/plain": "{'error': 'Error querying /api/v1/forceexit: invalid argument'}"
     },
     "execution_count": 74,
     "metadata": {},
     "output_type": "execute_result"
    }
   ],
   "source": [
    "a.force_exit_order(1,order_type=\"market\")"
   ],
   "metadata": {
    "collapsed": false,
    "ExecuteTime": {
     "end_time": "2025-10-29T08:17:52.070980Z",
     "start_time": "2025-10-29T08:17:52.058385Z"
    }
   },
   "id": "a41a34bde77b44d6",
   "execution_count": 74
  },
  {
   "cell_type": "code",
   "outputs": [],
   "source": [],
   "metadata": {
    "collapsed": false
   },
   "id": "44d8a9ac5620c056"
  }
 ],
 "metadata": {
  "kernelspec": {
   "display_name": "Python 3",
   "language": "python",
   "name": "python3"
  },
  "language_info": {
   "codemirror_mode": {
    "name": "ipython",
    "version": 2
   },
   "file_extension": ".py",
   "mimetype": "text/x-python",
   "name": "python",
   "nbconvert_exporter": "python",
   "pygments_lexer": "ipython2",
   "version": "2.7.6"
  }
 },
 "nbformat": 4,
 "nbformat_minor": 5
}
