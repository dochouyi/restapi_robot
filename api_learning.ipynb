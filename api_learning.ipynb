{
 "cells": [
  {
   "cell_type": "code",
   "execution_count": 14,
   "id": "initial_id",
   "metadata": {
    "collapsed": true,
    "ExecuteTime": {
     "end_time": "2025-10-29T05:50:14.043105Z",
     "start_time": "2025-10-29T05:50:14.040527Z"
    }
   },
   "outputs": [],
   "source": [
    "from freqtrade_client import FtRestClient\n",
    "binance_bot = FtRestClient(serverurl=\"http://127.0.0.1:8090\",username=\"freqtrader\",password=\"123456\")"
   ]
  },
  {
   "cell_type": "markdown",
   "source": [
    "# 1.机器人的状态转换\n",
    "启动机器人\n",
    "freqtrade.worker - INFO - Bot heartbeat. PID=1, version='2025.7', state='RUNNING'"
   ],
   "metadata": {
    "collapsed": false
   },
   "id": "285f9270672e1463"
  },
  {
   "cell_type": "code",
   "outputs": [
    {
     "name": "stdout",
     "output_type": "stream",
     "text": [
      "{'status': 'already running'}\n"
     ]
    }
   ],
   "source": [
    "result=binance_bot.start()\n",
    "print(result)"
   ],
   "metadata": {
    "collapsed": false,
    "ExecuteTime": {
     "end_time": "2025-10-29T05:50:15.688627Z",
     "start_time": "2025-10-29T05:50:15.680586Z"
    }
   },
   "id": "9befc606b450938c",
   "execution_count": 15
  },
  {
   "cell_type": "markdown",
   "source": [
    "停止机器人\n",
    "freqtrade.worker - INFO - Bot heartbeat. PID=1, version='2025.7', state='STOPPED'"
   ],
   "metadata": {
    "collapsed": false
   },
   "id": "f4ce69c2708355c3"
  },
  {
   "cell_type": "code",
   "outputs": [
    {
     "name": "stdout",
     "output_type": "stream",
     "text": [
      "{'status': 'stopping trader ...'}\n"
     ]
    }
   ],
   "source": [
    "result=binance_bot.stop()\n",
    "print(result)"
   ],
   "metadata": {
    "collapsed": false,
    "ExecuteTime": {
     "end_time": "2025-10-29T05:50:17.095525Z",
     "start_time": "2025-10-29T05:50:17.088620Z"
    }
   },
   "id": "fcb0329039f96247",
   "execution_count": 16
  },
  {
   "cell_type": "markdown",
   "source": [
    "暂停机器人\n",
    "freqtrade.worker - INFO - Bot heartbeat. PID=1, version='2025.7', state='PAUSED'"
   ],
   "metadata": {
    "collapsed": false
   },
   "id": "54991f091dcf0fa4"
  },
  {
   "cell_type": "code",
   "outputs": [
    {
     "name": "stdout",
     "output_type": "stream",
     "text": [
      "{'status': 'starting bot with trader in paused state, no entries will occur. Run /start to enable entries.'}\n"
     ]
    }
   ],
   "source": [
    "result=binance_bot.stopbuy()\n",
    "print(result)"
   ],
   "metadata": {
    "collapsed": false,
    "ExecuteTime": {
     "end_time": "2025-10-29T05:50:18.627474Z",
     "start_time": "2025-10-29T05:50:18.623113Z"
    }
   },
   "id": "ef2ac7dad8557902",
   "execution_count": 17
  },
  {
   "cell_type": "markdown",
   "source": [
    "重新加载配置文件"
   ],
   "metadata": {
    "collapsed": false
   },
   "id": "5616007b7a1dd473"
  },
  {
   "cell_type": "code",
   "outputs": [
    {
     "name": "stdout",
     "output_type": "stream",
     "text": [
      "{'status': 'Reloading config ...'}\n"
     ]
    }
   ],
   "source": [
    "result=binance_bot.reload_config()\n",
    "print(result)"
   ],
   "metadata": {
    "collapsed": false,
    "ExecuteTime": {
     "end_time": "2025-10-29T05:50:19.807692Z",
     "start_time": "2025-10-29T05:50:19.801611Z"
    }
   },
   "id": "556b0cc6b76db638",
   "execution_count": 18
  },
  {
   "cell_type": "markdown",
   "source": [
    "reload_config之后的状态是配置文件中约定的状态"
   ],
   "metadata": {
    "collapsed": false
   },
   "id": "68cce4e2034d5d7a"
  },
  {
   "cell_type": "markdown",
   "source": [
    "# 2.显示机器人状态"
   ],
   "metadata": {
    "collapsed": false
   },
   "id": "8891a33ff12e7335"
  },
  {
   "cell_type": "code",
   "outputs": [
    {
     "name": "stdout",
     "output_type": "stream",
     "text": [
      "{'currencies': [{'currency': 'USDT', 'free': 925.430422, 'balance': 999.600622, 'used': 74.1702, 'bot_owned': 915.43441578, 'est_stake': 925.430422, 'est_stake_bot': 915.43441578, 'stake': 'USDT', 'side': 'long', 'is_position': False, 'position': 0.0, 'is_bot_managed': True}, {'currency': 'GAS/USDT:USDT', 'free': 0.0, 'balance': 0.0, 'used': 0.0, 'bot_owned': None, 'est_stake': 74.1702, 'est_stake_bot': 74.1702, 'stake': 'USDT', 'side': 'long', 'is_position': True, 'position': 25.7, 'is_bot_managed': True}], 'total': 999.600622, 'total_bot': 989.60461578, 'symbol': '', 'value': 0.0, 'value_bot': 0.0, 'stake': 'USDT', 'note': 'Simulated balances', 'starting_capital': 990.0, 'starting_capital_ratio': -0.0003993780000000058, 'starting_capital_pct': -0.04, 'starting_capital_fiat': 0.0, 'starting_capital_fiat_ratio': 0.0, 'starting_capital_fiat_pct': 0.0}\n"
     ]
    }
   ],
   "source": [
    "import json\n",
    "result=binance_bot.balance()\n",
    "print(result)\n",
    "# print(json.dumps(result, indent=4, ensure_ascii=False))"
   ],
   "metadata": {
    "collapsed": false,
    "ExecuteTime": {
     "end_time": "2025-10-29T05:57:34.363963Z",
     "start_time": "2025-10-29T05:57:34.348597Z"
    }
   },
   "id": "d09cc8c68e2bbfc2",
   "execution_count": 40
  },
  {
   "cell_type": "code",
   "outputs": [
    {
     "name": "stdout",
     "output_type": "stream",
     "text": [
      "{'current': 1, 'max': 1, 'total_stake': 74.1702}\n"
     ]
    }
   ],
   "source": [
    "result=binance_bot.count()\n",
    "\n",
    "print(result)"
   ],
   "metadata": {
    "collapsed": false,
    "ExecuteTime": {
     "end_time": "2025-10-29T05:58:06.594649Z",
     "start_time": "2025-10-29T05:58:06.586335Z"
    }
   },
   "id": "c16c8e2bd1f20a4d",
   "execution_count": 42
  },
  {
   "cell_type": "code",
   "outputs": [
    {
     "name": "stdout",
     "output_type": "stream",
     "text": [
      "[\n",
      "    {\n",
      "        \"profit_ratio\": -0.001346387107953561,\n",
      "        \"profit_pct\": -0.13,\n",
      "        \"profit_abs\": -0.39937799999999996,\n",
      "        \"count\": 4,\n",
      "        \"enter_tag\": \"force_entry\"\n",
      "    }\n",
      "]\n"
     ]
    }
   ],
   "source": [
    "result=binance_bot.entries()\n",
    "\n",
    "print(result)\n",
    "# print(json.dumps(result, indent=4, ensure_ascii=False))"
   ],
   "metadata": {
    "collapsed": false,
    "ExecuteTime": {
     "end_time": "2025-10-29T05:58:40.379531Z",
     "start_time": "2025-10-29T05:58:40.369339Z"
    }
   },
   "id": "2c54f2ff388a264d",
   "execution_count": 44
  },
  {
   "cell_type": "code",
   "outputs": [
    {
     "name": "stdout",
     "output_type": "stream",
     "text": [
      "[{'profit_ratio': -0.001346387107953561, 'profit_pct': -0.13, 'profit_abs': -0.39937799999999996, 'count': 4, 'exit_reason': 'force_exit'}]\n"
     ]
    }
   ],
   "source": [
    "result=binance_bot.exits()\n",
    "\n",
    "print(result)\n",
    "# print(json.dumps(result, indent=4, ensure_ascii=False))"
   ],
   "metadata": {
    "collapsed": false,
    "ExecuteTime": {
     "end_time": "2025-10-29T05:59:34.960704Z",
     "start_time": "2025-10-29T05:59:34.945297Z"
    }
   },
   "id": "a38867adfbc0c52a",
   "execution_count": 45
  },
  {
   "cell_type": "code",
   "outputs": [
    {
     "name": "stdout",
     "output_type": "stream",
     "text": [
      "{'lock_count': 0, 'locks': []}\n"
     ]
    }
   ],
   "source": [
    "result=binance_bot.locks()\n",
    "\n",
    "print(result)"
   ],
   "metadata": {
    "collapsed": false,
    "ExecuteTime": {
     "end_time": "2025-10-29T06:01:19.500283Z",
     "start_time": "2025-10-29T06:01:19.494438Z"
    }
   },
   "id": "8de9c061baf1a871",
   "execution_count": 49
  },
  {
   "cell_type": "code",
   "outputs": [
    {
     "name": "stdout",
     "output_type": "stream",
     "text": [
      "{'profit_closed_coin': -0.399378, 'profit_closed_percent_mean': -0.13, 'profit_closed_ratio_mean': -0.001345594318721541, 'profit_closed_percent_sum': -0.54, 'profit_closed_ratio_sum': -0.005382377274886164, 'profit_closed_percent': -0.04, 'profit_closed_ratio': -0.0004034121212121212, 'profit_closed_fiat': 0.0, 'profit_all_coin': -7.78318376, 'profit_all_percent_mean': -2.1, 'profit_all_ratio_mean': -0.02097696345497723, 'profit_all_percent_sum': -10.49, 'profit_all_ratio_sum': -0.10488481727488616, 'profit_all_percent': -0.79, 'profit_all_ratio': -0.007861801777777778, 'profit_all_fiat': 0.0, 'trade_count': 5, 'closed_trade_count': 4, 'first_trade_date': '2025-09-28 07:40:26', 'first_trade_humanized': '30 days ago', 'first_trade_timestamp': 1759045226284, 'latest_trade_date': '2025-09-28 07:48:14', 'latest_trade_humanized': '30 days ago', 'latest_trade_timestamp': 1759045694991, 'avg_duration': '0:01:31', 'best_pair': 'GAS/USDT:USDT', 'best_rate': -0.13, 'best_pair_profit_ratio': -0.001346387107953561, 'best_pair_profit_abs': -0.39937799999999996, 'winning_trades': 0, 'losing_trades': 4, 'profit_factor': 0.0, 'winrate': 0.0, 'expectancy': -0.09984449999999999, 'expectancy_ratio': -1.0, 'max_drawdown': 0.0004034121212120768, 'max_drawdown_abs': 0.39937799999999996, 'max_drawdown_start': '2025-09-28 07:41:33', 'max_drawdown_start_timestamp': 1759045293552, 'max_drawdown_end': '2025-09-28 07:47:33', 'max_drawdown_end_timestamp': 1759045653909, 'current_drawdown': 0.0004034121212120768, 'current_drawdown_abs': 0.39937799999999996, 'current_drawdown_high': 0.0, 'current_drawdown_start': '2025-09-28 07:41:33', 'current_drawdown_start_timestamp': 1759045293552, 'trading_volume': 667.3262, 'bot_start_timestamp': 1759044924540, 'bot_start_date': '2025-09-28 07:35:24'}\n"
     ]
    }
   ],
   "source": [
    "result=binance_bot.profit()\n",
    "\n",
    "print(result)"
   ],
   "metadata": {
    "collapsed": false,
    "ExecuteTime": {
     "end_time": "2025-10-29T06:01:00.643369Z",
     "start_time": "2025-10-29T06:01:00.624165Z"
    }
   },
   "id": "f5af356361503dc9",
   "execution_count": 48
  },
  {
   "cell_type": "code",
   "outputs": [
    {
     "name": "stdout",
     "output_type": "stream",
     "text": [
      "{'exit_reasons': {'force_exit': {'wins': 0, 'losses': 4, 'draws': 0}}, 'durations': {'wins': None, 'draws': None, 'losses': 91.095721}}\n"
     ]
    }
   ],
   "source": [
    "result=binance_bot.stats()\n",
    "\n",
    "print(result)"
   ],
   "metadata": {
    "collapsed": false,
    "ExecuteTime": {
     "end_time": "2025-10-29T06:00:43.989641Z",
     "start_time": "2025-10-29T06:00:43.977111Z"
    }
   },
   "id": "406a8a07e99001af",
   "execution_count": 47
  },
  {
   "cell_type": "code",
   "outputs": [
    {
     "name": "stdout",
     "output_type": "stream",
     "text": [
      "[{'profit_ratio': -0.001346387107953561, 'profit_pct': -0.13, 'profit_abs': -0.39937799999999996, 'count': 4, 'pair': 'GAS/USDT:USDT', 'profit': -0.13}]\n"
     ]
    }
   ],
   "source": [
    "result=binance_bot.performance()\n",
    "\n",
    "print(result)"
   ],
   "metadata": {
    "collapsed": false,
    "ExecuteTime": {
     "end_time": "2025-10-29T06:00:29.099084Z",
     "start_time": "2025-10-29T06:00:29.087805Z"
    }
   },
   "id": "4d1c8cd153e7e8af",
   "execution_count": 46
  },
  {
   "cell_type": "code",
   "outputs": [
    {
     "name": "stdout",
     "output_type": "stream",
     "text": [
      "[{'trade_id': 5, 'pair': 'GAS/USDT:USDT', 'base_currency': 'GAS', 'quote_currency': 'USDT', 'is_open': True, 'is_short': False, 'exchange': 'binance', 'amount': 25.7, 'amount_requested': 25.74665294, 'stake_amount': 74.1702, 'max_stake_amount': 74.1702, 'strategy': 'DummyStrategy', 'enter_tag': 'force_entry', 'timeframe': 60, 'fee_open': 0.0005, 'fee_open_cost': 0.037085099999999996, 'fee_open_currency': 'USDT', 'fee_close': 0.0005, 'fee_close_cost': None, 'fee_close_currency': None, 'open_date': '2025-09-28 07:48:14', 'open_timestamp': 1759045694991, 'open_fill_date': '2025-09-28 07:48:14', 'open_fill_timestamp': 1759045694991, 'open_rate': 2.886, 'open_rate_requested': 3.884, 'open_trade_value': 74.2072851, 'close_date': None, 'close_timestamp': None, 'close_rate': None, 'close_rate_requested': None, 'close_profit': None, 'close_profit_pct': None, 'close_profit_abs': None, 'profit_ratio': -0.09984859, 'profit_pct': -9.98, 'profit_abs': -7.40949291, 'profit_fiat': None, 'realized_profit': 0.0, 'realized_profit_ratio': None, 'exit_reason': None, 'exit_order_status': None, 'stop_loss_abs': 1.443, 'stop_loss_ratio': -0.5, 'stop_loss_pct': -50.0, 'stoploss_last_update': None, 'stoploss_last_update_timestamp': None, 'initial_stop_loss_abs': 1.443, 'initial_stop_loss_ratio': -0.5, 'initial_stop_loss_pct': -50.0, 'min_rate': 1.603, 'max_rate': 3.05, 'has_open_orders': False, 'orders': [{'pair': 'GAS/USDT:USDT', 'order_id': 'dry_run_buy_GAS/USDT:USDT_1759045694.842771', 'status': 'closed', 'remaining': 0.0, 'amount': 25.7, 'safe_price': 2.886, 'cost': 74.1702, 'filled': 25.7, 'ft_order_side': 'buy', 'order_type': 'market', 'is_open': False, 'order_timestamp': 1759045694842, 'order_filled_timestamp': 1759045694991, 'ft_fee_base': None, 'ft_order_tag': 'force_entry'}], 'leverage': 1.0, 'interest_rate': 0.0, 'liquidation_price': 0.144, 'funding_fees': -0.1429207094619122, 'trading_mode': 'futures', 'amount_precision': 0.1, 'price_precision': 0.001, 'precision_mode': 4, 'stoploss_current_dist': -1.163, 'stoploss_current_dist_pct': -44.63, 'stoploss_current_dist_ratio': -0.44627782, 'stoploss_entry_dist': -37.28364836, 'stoploss_entry_dist_ratio': -0.50242572, 'current_rate': 2.606, 'total_profit_abs': -7.40949291, 'total_profit_fiat': None, 'total_profit_ratio': -0.09984859}]\n"
     ]
    }
   ],
   "source": [
    "result=binance_bot.status()\n",
    "\n",
    "print(result)\n",
    "# print(json.dumps(result, indent=4, ensure_ascii=False))\n"
   ],
   "metadata": {
    "collapsed": false,
    "ExecuteTime": {
     "end_time": "2025-10-29T05:57:40.977173Z",
     "start_time": "2025-10-29T05:57:40.968999Z"
    }
   },
   "id": "a7c12ea010b23408",
   "execution_count": 41
  },
  {
   "cell_type": "code",
   "outputs": [
    {
     "name": "stdout",
     "output_type": "stream",
     "text": [
      "{\n",
      "    \"version\": \"2025.7\",\n",
      "    \"strategy_version\": null,\n",
      "    \"api_version\": 2.43,\n",
      "    \"dry_run\": true,\n",
      "    \"trading_mode\": \"futures\",\n",
      "    \"short_allowed\": true,\n",
      "    \"stake_currency\": \"USDT\",\n",
      "    \"stake_amount\": \"unlimited\",\n",
      "    \"available_capital\": null,\n",
      "    \"stake_currency_decimals\": 3,\n",
      "    \"max_open_trades\": 1.0,\n",
      "    \"minimal_roi\": {\n",
      "        \"0\": 1\n",
      "    },\n",
      "    \"stoploss\": -0.5,\n",
      "    \"stoploss_on_exchange\": false,\n",
      "    \"trailing_stop\": false,\n",
      "    \"trailing_stop_positive\": null,\n",
      "    \"trailing_stop_positive_offset\": 0.0,\n",
      "    \"trailing_only_offset_is_reached\": false,\n",
      "    \"unfilledtimeout\": {\n",
      "        \"entry\": 10,\n",
      "        \"exit\": 10,\n",
      "        \"unit\": \"minutes\",\n",
      "        \"exit_timeout_count\": 0\n",
      "    },\n",
      "    \"order_types\": {\n",
      "        \"entry\": \"limit\",\n",
      "        \"exit\": \"limit\",\n",
      "        \"emergency_exit\": \"market\",\n",
      "        \"force_exit\": null,\n",
      "        \"force_entry\": null,\n",
      "        \"stoploss\": \"limit\",\n",
      "        \"stoploss_on_exchange\": false,\n",
      "        \"stoploss_on_exchange_interval\": 60\n",
      "    },\n",
      "    \"use_custom_stoploss\": false,\n",
      "    \"timeframe\": \"1h\",\n",
      "    \"timeframe_ms\": 3600000,\n",
      "    \"timeframe_min\": 60,\n",
      "    \"exchange\": \"binance\",\n",
      "    \"strategy\": \"DummyStrategy\",\n",
      "    \"force_entry_enable\": true,\n",
      "    \"exit_pricing\": {\n",
      "        \"price_side\": \"same\",\n",
      "        \"use_order_book\": true,\n",
      "        \"order_book_top\": 1\n",
      "    },\n",
      "    \"entry_pricing\": {\n",
      "        \"price_side\": \"same\",\n",
      "        \"use_order_book\": true,\n",
      "        \"order_book_top\": 1,\n",
      "        \"price_last_balance\": 0.0,\n",
      "        \"check_depth_of_market\": {\n",
      "            \"enabled\": false,\n",
      "            \"bids_to_ask_delta\": 1\n",
      "        }\n",
      "    },\n",
      "    \"bot_name\": \"freqtrade\",\n",
      "    \"state\": \"running\",\n",
      "    \"runmode\": \"dry_run\",\n",
      "    \"position_adjustment_enable\": false,\n",
      "    \"max_entry_position_adjustment\": -1\n",
      "}\n"
     ]
    }
   ],
   "source": [
    "result=binance_bot.show_config()\n",
    "# print(result)\n",
    "print(json.dumps(result, indent=4, ensure_ascii=False))"
   ],
   "metadata": {
    "collapsed": false,
    "ExecuteTime": {
     "end_time": "2025-10-29T05:54:31.806619Z",
     "start_time": "2025-10-29T05:54:31.797804Z"
    }
   },
   "id": "5defb6a7160c8270",
   "execution_count": 26
  },
  {
   "cell_type": "code",
   "outputs": [
    {
     "name": "stdout",
     "output_type": "stream",
     "text": [
      "{'status': 'pong'}\n"
     ]
    }
   ],
   "source": [
    "result=binance_bot.ping()\n",
    "print(result)"
   ],
   "metadata": {
    "collapsed": false,
    "ExecuteTime": {
     "end_time": "2025-10-29T05:55:12.555734Z",
     "start_time": "2025-10-29T05:55:12.549284Z"
    }
   },
   "id": "6d165a13c958afb6",
   "execution_count": 27
  },
  {
   "cell_type": "code",
   "outputs": [
    {
     "name": "stdout",
     "output_type": "stream",
     "text": [
      "{'log_count': 266, 'logs': [['2025-10-29 05:46:17', 1761716777752.7344, 'freqtrade', 'INFO', 'freqtrade 2025.7'], ['2025-10-29 05:46:18', 1761716778057.8315, 'numexpr.utils', 'INFO', 'Note: NumExpr detected 32 cores but \"NUMEXPR_MAX_THREADS\" not set, so enforcing safe limit of 16.'], ['2025-10-29 05:46:18', 1761716778058.203, 'numexpr.utils', 'INFO', 'NumExpr defaulting to 16 threads.'], ['2025-10-29 05:46:18', 1761716778969.537, 'freqtrade.worker', 'INFO', 'Starting worker 2025.7'], ['2025-10-29 05:46:18', 1761716778969.8782, 'freqtrade.configuration.load_config', 'INFO', 'Using config: /freqtrade/user_data/config_binance.json ...'], ['2025-10-29 05:46:18', 1761716778971.5898, 'freqtrade.loggers', 'INFO', 'Enabling colorized output.'], ['2025-10-29 05:46:18', 1761716778971.8604, 'freqtrade.loggers', 'INFO', 'Logfile configured'], ['2025-10-29 05:46:18', 1761716778972.1055, 'freqtrade.loggers', 'INFO', 'Verbosity set to 0'], ['2025-10-29 05:46:18', 1761716778972.4229, 'freqtrade.configuration.configuration', 'INFO', 'Runmode set to dry_run.'], ['2025-10-29 05:46:18', 1761716778972.6333, 'freqtrade.configuration.configuration', 'WARNING', '`force_entry_enable` RPC message enabled.'], ['2025-10-29 05:46:18', 1761716778972.838, 'freqtrade.configuration.configuration', 'INFO', 'Dry run is enabled'], ['2025-10-29 05:46:18', 1761716778973.0435, 'freqtrade.configuration.configuration', 'INFO', 'Using DB: \"sqlite:///user_data/db/tradesv3_binance.sqlite\"'], ['2025-10-29 05:46:18', 1761716778973.2493, 'freqtrade.configuration.configuration', 'INFO', 'Using max_open_trades: 1 ...'], ['2025-10-29 05:46:18', 1761716778993.8784, 'freqtrade.configuration.configuration', 'INFO', 'Using user-data directory: /freqtrade/user_data ...'], ['2025-10-29 05:46:18', 1761716778994.4287, 'freqtrade.configuration.configuration', 'INFO', 'Using data directory: /freqtrade/user_data/data/binance ...'], ['2025-10-29 05:46:18', 1761716778995.3606, 'freqtrade.exchange.check_exchange', 'INFO', 'Checking exchange...'], ['2025-10-29 05:46:19', 1761716779003.614, 'freqtrade.exchange.check_exchange', 'INFO', 'Exchange \"binance\" is officially supported by the Freqtrade development team.'], ['2025-10-29 05:46:19', 1761716779003.9824, 'freqtrade.configuration.configuration', 'INFO', 'Using pairlist from configuration.'], ['2025-10-29 05:46:19', 1761716779004.419, 'freqtrade.exchange.exchange', 'INFO', 'Instance is running with dry_run enabled'], ['2025-10-29 05:46:19', 1761716779004.6614, 'freqtrade.exchange.exchange', 'INFO', 'Using CCXT 4.4.96'], ['2025-10-29 05:46:19', 1761716779004.8787, 'freqtrade.exchange.exchange', 'INFO', \"Applying additional ccxt config: {'options': {'defaultType': 'swap'}, 'httpsProxy': 'http://127.0.0.1:7890', 'wsProxy': 'http://127.0.0.1:7890', 'enableRateLimit': True, 'rateLimit': 50}\"], ['2025-10-29 05:46:19', 1761716779011.5107, 'freqtrade.exchange.exchange', 'INFO', \"Applying additional ccxt config: {'options': {'defaultType': 'swap'}, 'httpsProxy': 'http://127.0.0.1:7890', 'wsProxy': 'http://127.0.0.1:7890', 'enableRateLimit': True, 'rateLimit': 50}\"], ['2025-10-29 05:46:19', 1761716779019.341, 'freqtrade.exchange.exchange', 'INFO', 'Using Exchange \"Binance\"'], ['2025-10-29 05:46:20', 1761716780693.9753, 'freqtrade.resolvers.exchange_resolver', 'INFO', \"Using resolved exchange 'Binance'...\"], ['2025-10-29 05:46:20', 1761716780694.9907, 'freqtrade.resolvers.iresolver', 'INFO', \"Using resolved strategy DummyStrategy from '/freqtrade/user_data/strategies/DummyStrategy.py'...\"], ['2025-10-29 05:46:20', 1761716780695.3184, 'freqtrade.strategy.hyper', 'INFO', 'Found no parameter file.'], ['2025-10-29 05:46:20', 1761716780695.7097, 'freqtrade.resolvers.strategy_resolver', 'INFO', \"Override strategy 'stake_currency' with value in config file: USDT.\"], ['2025-10-29 05:46:20', 1761716780695.9666, 'freqtrade.resolvers.strategy_resolver', 'INFO', \"Override strategy 'stake_amount' with value in config file: unlimited.\"], ['2025-10-29 05:46:20', 1761716780696.2036, 'freqtrade.resolvers.strategy_resolver', 'INFO', \"Override strategy 'unfilledtimeout' with value in config file: {'entry': 10, 'exit': 10, 'exit_timeout_count': 0, 'unit': 'minutes'}.\"], ['2025-10-29 05:46:20', 1761716780696.4797, 'freqtrade.resolvers.strategy_resolver', 'INFO', \"Override strategy 'disable_dataframe_checks' with value in config file: True.\"], ['2025-10-29 05:46:20', 1761716780696.6917, 'freqtrade.resolvers.strategy_resolver', 'INFO', \"Override strategy 'max_open_trades' with value in config file: 1.\"], ['2025-10-29 05:46:20', 1761716780696.8938, 'freqtrade.resolvers.strategy_resolver', 'INFO', \"Strategy using minimal_roi: {'0': 1}\"], ['2025-10-29 05:46:20', 1761716780697.1025, 'freqtrade.resolvers.strategy_resolver', 'INFO', 'Strategy using timeframe: 1h'], ['2025-10-29 05:46:20', 1761716780697.2957, 'freqtrade.resolvers.strategy_resolver', 'INFO', 'Strategy using stoploss: -0.5'], ['2025-10-29 05:46:20', 1761716780697.483, 'freqtrade.resolvers.strategy_resolver', 'INFO', 'Strategy using trailing_stop: False'], ['2025-10-29 05:46:20', 1761716780697.6665, 'freqtrade.resolvers.strategy_resolver', 'INFO', 'Strategy using trailing_stop_positive_offset: 0.0'], ['2025-10-29 05:46:20', 1761716780697.849, 'freqtrade.resolvers.strategy_resolver', 'INFO', 'Strategy using trailing_only_offset_is_reached: False'], ['2025-10-29 05:46:20', 1761716780698.0298, 'freqtrade.resolvers.strategy_resolver', 'INFO', 'Strategy using use_custom_stoploss: False'], ['2025-10-29 05:46:20', 1761716780698.2124, 'freqtrade.resolvers.strategy_resolver', 'INFO', 'Strategy using process_only_new_candles: True'], ['2025-10-29 05:46:20', 1761716780698.3958, 'freqtrade.resolvers.strategy_resolver', 'INFO', \"Strategy using order_types: {'entry': 'limit', 'exit': 'limit', 'stoploss': 'limit', 'stoploss_on_exchange': False, 'stoploss_on_exchange_interval': 60}\"], ['2025-10-29 05:46:20', 1761716780698.6284, 'freqtrade.resolvers.strategy_resolver', 'INFO', \"Strategy using order_time_in_force: {'entry': 'GTC', 'exit': 'GTC'}\"], ['2025-10-29 05:46:20', 1761716780698.826, 'freqtrade.resolvers.strategy_resolver', 'INFO', 'Strategy using stake_currency: USDT'], ['2025-10-29 05:46:20', 1761716780699.0112, 'freqtrade.resolvers.strategy_resolver', 'INFO', 'Strategy using stake_amount: unlimited'], ['2025-10-29 05:46:20', 1761716780699.1938, 'freqtrade.resolvers.strategy_resolver', 'INFO', 'Strategy using startup_candle_count: 0'], ['2025-10-29 05:46:20', 1761716780699.3738, 'freqtrade.resolvers.strategy_resolver', 'INFO', \"Strategy using unfilledtimeout: {'entry': 10, 'exit': 10, 'exit_timeout_count': 0, 'unit': 'minutes'}\"], ['2025-10-29 05:46:20', 1761716780699.5674, 'freqtrade.resolvers.strategy_resolver', 'INFO', 'Strategy using use_exit_signal: False'], ['2025-10-29 05:46:20', 1761716780699.755, 'freqtrade.resolvers.strategy_resolver', 'INFO', 'Strategy using exit_profit_only: False'], ['2025-10-29 05:46:20', 1761716780699.9463, 'freqtrade.resolvers.strategy_resolver', 'INFO', 'Strategy using ignore_roi_if_entry_signal: False'], ['2025-10-29 05:46:20', 1761716780700.1284, 'freqtrade.resolvers.strategy_resolver', 'INFO', 'Strategy using exit_profit_offset: 0.0'], ['2025-10-29 05:46:20', 1761716780700.3108, 'freqtrade.resolvers.strategy_resolver', 'INFO', 'Strategy using disable_dataframe_checks: True'], ['2025-10-29 05:46:20', 1761716780700.491, 'freqtrade.resolvers.strategy_resolver', 'INFO', 'Strategy using ignore_buying_expired_candle_after: 0'], ['2025-10-29 05:46:20', 1761716780700.6719, 'freqtrade.resolvers.strategy_resolver', 'INFO', 'Strategy using position_adjustment_enable: False'], ['2025-10-29 05:46:20', 1761716780700.851, 'freqtrade.resolvers.strategy_resolver', 'INFO', 'Strategy using max_entry_position_adjustment: -1'], ['2025-10-29 05:46:20', 1761716780701.0276, 'freqtrade.resolvers.strategy_resolver', 'INFO', 'Strategy using max_open_trades: 1'], ['2025-10-29 05:46:20', 1761716780701.251, 'freqtrade.configuration.config_validation', 'INFO', 'Validating configuration ...'], ['2025-10-29 05:46:20', 1761716780724.424, 'freqtrade.wallets', 'INFO', 'Wallets synced.'], ['2025-10-29 05:46:20', 1761716780724.744, 'freqtrade.rpc.rpc_manager', 'INFO', 'Enabling rpc.api_server'], ['2025-10-29 05:46:20', 1761716780839.0996, 'freqtrade.rpc.api_server.webserver', 'INFO', 'Starting HTTP Server at 0.0.0.0:8090'], ['2025-10-29 05:46:20', 1761716780839.4624, 'freqtrade.rpc.api_server.webserver', 'INFO', 'Starting Local Rest Server.'], ['2025-10-29 05:46:20', 1761716780849.4114, 'uvicorn.error', 'INFO', 'Started server process [1]'], ['2025-10-29 05:46:20', 1761716780849.7192, 'uvicorn.error', 'INFO', 'Waiting for application startup.'], ['2025-10-29 05:46:20', 1761716780850.0886, 'uvicorn.error', 'INFO', 'Application startup complete.'], ['2025-10-29 05:46:20', 1761716780850.438, 'uvicorn.error', 'INFO', 'Uvicorn running on http://0.0.0.0:8090 (Press CTRL+C to quit)'], ['2025-10-29 05:46:20', 1761716780858.9978, 'freqtrade.resolvers.iresolver', 'INFO', \"Using resolved pairlist StaticPairList from '/freqtrade/freqtrade/plugins/pairlist/StaticPairList.py'...\"], ['2025-10-29 05:46:20', 1761716780859.3108, 'freqtrade.freqtradebot', 'INFO', 'Starting initial pairlist refresh'], ['2025-10-29 05:46:20', 1761716780865.5166, 'freqtrade.plugins.pairlistmanager', 'INFO', 'Whitelist with 0 pairs: []'], ['2025-10-29 05:46:20', 1761716780865.8323, 'freqtrade.freqtradebot', 'INFO', 'Initial Pairlist refresh took 0.01s'], ['2025-10-29 05:46:20', 1761716780866.4827, 'freqtrade.strategy.hyper', 'INFO', 'No params for buy found, using default values.'], ['2025-10-29 05:46:20', 1761716780866.8792, 'freqtrade.strategy.hyper', 'INFO', 'No params for sell found, using default values.'], ['2025-10-29 05:46:20', 1761716780867.179, 'freqtrade.strategy.hyper', 'INFO', 'No params for protection found, using default values.'], ['2025-10-29 05:46:20', 1761716780867.4626, 'freqtrade.plugins.protectionmanager', 'INFO', 'No protection Handlers defined.'], ['2025-10-29 05:46:20', 1761716780867.6902, 'freqtrade.rpc.rpc_manager', 'INFO', \"Sending rpc message: {'type': status, 'status': 'running'}\"], ['2025-10-29 05:46:20', 1761716780867.9226, 'freqtrade.worker', 'INFO', 'Changing state to: RUNNING'], ['2025-10-29 05:46:20', 1761716780886.761, 'freqtrade.rpc.rpc_manager', 'INFO', \"Sending rpc message: {'type': warning, 'status': 'Dry run is enabled. All trades are simulated.'}\"], ['2025-10-29 05:46:20', 1761716780887.1309, 'freqtrade.rpc.rpc_manager', 'INFO', 'Sending rpc message: {\\'type\\': startup, \\'status\\': \"*Exchange:* `binance`\\\\n*Stake per trade:* `unlimited USDT`\\\\n*Minimum ROI:* `{\\'0\\': 1}`\\\\n*Stoploss:* `-0.5`\\\\n*Position adjustment:* `Off`\\\\n*Timeframe:* `1h`\\\\n*Strategy:* `DummyStrategy`\"}'], ['2025-10-29 05:46:20', 1761716780887.481, 'freqtrade.rpc.rpc_manager', 'INFO', 'Sending rpc message: {\\'type\\': startup, \\'status\\': \"Searching for USDT pairs to buy and sell based on [{\\'StaticPairList\\': \\'StaticPairList\\'}]\"}'], ['2025-10-29 05:46:20', 1761716780890.0503, 'freqtrade.persistence.trade_model', 'INFO', 'Found open trade: Trade(id=5, pair=GAS/USDT:USDT, amount=25.70000000, is_short=False, leverage=1.0, open_rate=2.88600000, open_since=2025-09-28 07:48:14)'], ['2025-10-29 05:46:26', 1761716786492.2302, 'freqtrade.worker', 'INFO', \"Bot heartbeat. PID=1, version='2025.7', state='RUNNING'\"], ['2025-10-29 05:46:36', 1761716796493.7285, 'freqtrade.rpc.rpc_manager', 'INFO', \"Sending rpc message: {'type': status, 'status': 'stopped'}\"], ['2025-10-29 05:46:36', 1761716796494.7834, 'freqtrade.worker', 'INFO', 'Changing state from RUNNING to: STOPPED'], ['2025-10-29 05:46:36', 1761716796497.923, 'freqtrade.rpc.rpc_manager', 'INFO', 'Sending rpc message: {\\'type\\': warning, \\'status\\': \"1 open trades active.\\\\n\\\\nHandle these trades manually on Binance, or \\'/start\\' the bot again and use \\'/stopentry\\' to handle open trades gracefully. \\\\nNote: Trades are simulated (dry run).\"}'], ['2025-10-29 05:46:41', 1761716801499.2703, 'freqtrade.worker', 'INFO', \"Bot heartbeat. PID=1, version='2025.7', state='STOPPED'\"], ['2025-10-29 05:47:41', 1761716861502.0896, 'freqtrade.worker', 'INFO', \"Bot heartbeat. PID=1, version='2025.7', state='STOPPED'\"], ['2025-10-29 05:48:21', 1761716901504.1875, 'freqtrade.rpc.rpc_manager', 'INFO', \"Sending rpc message: {'type': status, 'status': 'paused'}\"], ['2025-10-29 05:48:21', 1761716901505.2744, 'freqtrade.worker', 'INFO', 'Changing state from STOPPED to: PAUSED'], ['2025-10-29 05:48:21', 1761716901524.9683, 'freqtrade.rpc.rpc_manager', 'INFO', \"Sending rpc message: {'type': warning, 'status': 'Dry run is enabled. All trades are simulated.'}\"], ['2025-10-29 05:48:21', 1761716901525.9338, 'freqtrade.rpc.rpc_manager', 'INFO', 'Sending rpc message: {\\'type\\': startup, \\'status\\': \"*Exchange:* `binance`\\\\n*Stake per trade:* `unlimited USDT`\\\\n*Minimum ROI:* `{\\'0\\': 1}`\\\\n*Stoploss:* `-0.5`\\\\n*Position adjustment:* `Off`\\\\n*Timeframe:* `1h`\\\\n*Strategy:* `DummyStrategy`\"}'], ['2025-10-29 05:48:21', 1761716901526.7437, 'freqtrade.rpc.rpc_manager', 'INFO', 'Sending rpc message: {\\'type\\': startup, \\'status\\': \"Searching for USDT pairs to buy and sell based on [{\\'StaticPairList\\': \\'StaticPairList\\'}]\"}'], ['2025-10-29 05:48:21', 1761716901530.2966, 'freqtrade.persistence.trade_model', 'INFO', 'Found open trade: Trade(id=5, pair=GAS/USDT:USDT, amount=25.70000000, is_short=False, leverage=1.0, open_rate=2.88600000, open_since=2025-09-28 07:48:14)'], ['2025-10-29 05:48:27', 1761716907524.1143, 'freqtrade.worker', 'INFO', \"Bot heartbeat. PID=1, version='2025.7', state='PAUSED'\"], ['2025-10-29 05:49:07', 1761716947526.697, 'freqtrade.rpc.rpc_manager', 'INFO', \"Sending rpc message: {'type': status, 'status': 'reload_config'}\"], ['2025-10-29 05:49:07', 1761716947527.9087, 'freqtrade.worker', 'INFO', 'Changing state from PAUSED to: RELOAD_CONFIG'], ['2025-10-29 05:49:07', 1761716947528.5825, 'freqtrade.worker', 'INFO', \"Bot heartbeat. PID=1, version='2025.7', state='RELOAD_CONFIG'\"], ['2025-10-29 05:49:07', 1761716947529.1677, 'freqtrade.freqtradebot', 'INFO', 'Cleaning up modules ...'], ['2025-10-29 05:49:07', 1761716947531.9722, 'freqtrade.rpc.rpc_manager', 'INFO', 'Cleaning up rpc modules ...'], ['2025-10-29 05:49:07', 1761716947532.7454, 'freqtrade.rpc.rpc_manager', 'INFO', 'Cleaning up rpc.apiserver ...'], ['2025-10-29 05:49:07', 1761716947533.387, 'freqtrade.rpc.api_server.webserver', 'INFO', 'Stopping API Server'], ['2025-10-29 05:49:07', 1761716947622.2664, 'uvicorn.error', 'INFO', 'Shutting down'], ['2025-10-29 05:49:07', 1761716947723.464, 'uvicorn.error', 'INFO', 'Waiting for application shutdown.'], ['2025-10-29 05:49:07', 1761716947724.9531, 'uvicorn.error', 'INFO', 'Application shutdown complete.'], ['2025-10-29 05:49:07', 1761716947725.724, 'uvicorn.error', 'INFO', 'Finished server process [1]'], ['2025-10-29 05:49:07', 1761716947979.2437, 'freqtrade.configuration.load_config', 'INFO', 'Using config: /freqtrade/user_data/config_binance.json ...'], ['2025-10-29 05:49:07', 1761716947984.7263, 'freqtrade.loggers', 'INFO', 'Enabling colorized output.'], ['2025-10-29 05:49:07', 1761716947985.5059, 'freqtrade.loggers', 'INFO', 'Logfile configured'], ['2025-10-29 05:49:07', 1761716947986.1475, 'freqtrade.loggers', 'INFO', 'Verbosity set to 0'], ['2025-10-29 05:49:07', 1761716947986.7556, 'freqtrade.configuration.configuration', 'INFO', 'Runmode set to dry_run.'], ['2025-10-29 05:49:07', 1761716947987.3403, 'freqtrade.configuration.configuration', 'WARNING', '`force_entry_enable` RPC message enabled.'], ['2025-10-29 05:49:07', 1761716947987.7515, 'freqtrade.configuration.configuration', 'INFO', 'Dry run is enabled'], ['2025-10-29 05:49:07', 1761716947987.9731, 'freqtrade.configuration.configuration', 'INFO', 'Using DB: \"sqlite:///user_data/db/tradesv3_binance.sqlite\"'], ['2025-10-29 05:49:07', 1761716947988.1912, 'freqtrade.configuration.configuration', 'INFO', 'Using max_open_trades: 1 ...'], ['2025-10-29 05:49:08', 1761716948009.37, 'freqtrade.configuration.configuration', 'INFO', 'Using user-data directory: /freqtrade/user_data ...'], ['2025-10-29 05:49:08', 1761716948009.8477, 'freqtrade.configuration.configuration', 'INFO', 'Using data directory: /freqtrade/user_data/data/binance ...'], ['2025-10-29 05:49:08', 1761716948010.122, 'freqtrade.exchange.check_exchange', 'INFO', 'Checking exchange...'], ['2025-10-29 05:49:08', 1761716948018.3909, 'freqtrade.exchange.check_exchange', 'INFO', 'Exchange \"binance\" is officially supported by the Freqtrade development team.'], ['2025-10-29 05:49:08', 1761716948018.7754, 'freqtrade.configuration.configuration', 'INFO', 'Using pairlist from configuration.'], ['2025-10-29 05:49:08', 1761716948019.1929, 'freqtrade.exchange.exchange', 'INFO', 'Instance is running with dry_run enabled'], ['2025-10-29 05:49:08', 1761716948019.4285, 'freqtrade.exchange.exchange', 'INFO', 'Using CCXT 4.4.96'], ['2025-10-29 05:49:08', 1761716948019.6472, 'freqtrade.exchange.exchange', 'INFO', \"Applying additional ccxt config: {'options': {'defaultType': 'swap'}, 'httpsProxy': 'http://127.0.0.1:7890', 'wsProxy': 'http://127.0.0.1:7890', 'enableRateLimit': True, 'rateLimit': 50}\"], ['2025-10-29 05:49:08', 1761716948026.3342, 'freqtrade.exchange.exchange', 'INFO', \"Applying additional ccxt config: {'options': {'defaultType': 'swap'}, 'httpsProxy': 'http://127.0.0.1:7890', 'wsProxy': 'http://127.0.0.1:7890', 'enableRateLimit': True, 'rateLimit': 50}\"], ['2025-10-29 05:49:08', 1761716948034.0898, 'freqtrade.exchange.exchange', 'INFO', 'Using Exchange \"Binance\"'], ['2025-10-29 05:49:09', 1761716949700.5923, 'freqtrade.resolvers.exchange_resolver', 'INFO', \"Using resolved exchange 'Binance'...\"], ['2025-10-29 05:49:09', 1761716949701.5042, 'freqtrade.resolvers.iresolver', 'INFO', \"Using resolved strategy DummyStrategy from '/freqtrade/user_data/strategies/DummyStrategy.py'...\"], ['2025-10-29 05:49:09', 1761716949701.8064, 'freqtrade.strategy.hyper', 'INFO', 'Found no parameter file.'], ['2025-10-29 05:49:09', 1761716949702.1929, 'freqtrade.resolvers.strategy_resolver', 'INFO', \"Override strategy 'stake_currency' with value in config file: USDT.\"], ['2025-10-29 05:49:09', 1761716949702.437, 'freqtrade.resolvers.strategy_resolver', 'INFO', \"Override strategy 'stake_amount' with value in config file: unlimited.\"], ['2025-10-29 05:49:09', 1761716949702.659, 'freqtrade.resolvers.strategy_resolver', 'INFO', \"Override strategy 'unfilledtimeout' with value in config file: {'entry': 10, 'exit': 10, 'exit_timeout_count': 0, 'unit': 'minutes'}.\"], ['2025-10-29 05:49:09', 1761716949702.899, 'freqtrade.resolvers.strategy_resolver', 'INFO', \"Override strategy 'disable_dataframe_checks' with value in config file: True.\"], ['2025-10-29 05:49:09', 1761716949703.105, 'freqtrade.resolvers.strategy_resolver', 'INFO', \"Override strategy 'max_open_trades' with value in config file: 1.\"], ['2025-10-29 05:49:09', 1761716949703.3008, 'freqtrade.resolvers.strategy_resolver', 'INFO', \"Strategy using minimal_roi: {'0': 1}\"], ['2025-10-29 05:49:09', 1761716949703.4922, 'freqtrade.resolvers.strategy_resolver', 'INFO', 'Strategy using timeframe: 1h'], ['2025-10-29 05:49:09', 1761716949703.6794, 'freqtrade.resolvers.strategy_resolver', 'INFO', 'Strategy using stoploss: -0.5'], ['2025-10-29 05:49:09', 1761716949703.875, 'freqtrade.resolvers.strategy_resolver', 'INFO', 'Strategy using trailing_stop: False'], ['2025-10-29 05:49:09', 1761716949704.0845, 'freqtrade.resolvers.strategy_resolver', 'INFO', 'Strategy using trailing_stop_positive_offset: 0.0'], ['2025-10-29 05:49:09', 1761716949704.2832, 'freqtrade.resolvers.strategy_resolver', 'INFO', 'Strategy using trailing_only_offset_is_reached: False'], ['2025-10-29 05:49:09', 1761716949704.4727, 'freqtrade.resolvers.strategy_resolver', 'INFO', 'Strategy using use_custom_stoploss: False'], ['2025-10-29 05:49:09', 1761716949704.654, 'freqtrade.resolvers.strategy_resolver', 'INFO', 'Strategy using process_only_new_candles: True'], ['2025-10-29 05:49:09', 1761716949704.8367, 'freqtrade.resolvers.strategy_resolver', 'INFO', \"Strategy using order_types: {'entry': 'limit', 'exit': 'limit', 'stoploss': 'limit', 'stoploss_on_exchange': False, 'stoploss_on_exchange_interval': 60, 'emergency_exit': 'market'}\"], ['2025-10-29 05:49:09', 1761716949705.0623, 'freqtrade.resolvers.strategy_resolver', 'INFO', \"Strategy using order_time_in_force: {'entry': 'GTC', 'exit': 'GTC'}\"], ['2025-10-29 05:49:09', 1761716949705.2524, 'freqtrade.resolvers.strategy_resolver', 'INFO', 'Strategy using stake_currency: USDT'], ['2025-10-29 05:49:09', 1761716949705.4336, 'freqtrade.resolvers.strategy_resolver', 'INFO', 'Strategy using stake_amount: unlimited'], ['2025-10-29 05:49:09', 1761716949705.6138, 'freqtrade.resolvers.strategy_resolver', 'INFO', 'Strategy using startup_candle_count: 0'], ['2025-10-29 05:49:09', 1761716949705.7993, 'freqtrade.resolvers.strategy_resolver', 'INFO', \"Strategy using unfilledtimeout: {'entry': 10, 'exit': 10, 'exit_timeout_count': 0, 'unit': 'minutes'}\"], ['2025-10-29 05:49:09', 1761716949705.992, 'freqtrade.resolvers.strategy_resolver', 'INFO', 'Strategy using use_exit_signal: False'], ['2025-10-29 05:49:09', 1761716949706.1729, 'freqtrade.resolvers.strategy_resolver', 'INFO', 'Strategy using exit_profit_only: False'], ['2025-10-29 05:49:09', 1761716949706.357, 'freqtrade.resolvers.strategy_resolver', 'INFO', 'Strategy using ignore_roi_if_entry_signal: False'], ['2025-10-29 05:49:09', 1761716949706.5376, 'freqtrade.resolvers.strategy_resolver', 'INFO', 'Strategy using exit_profit_offset: 0.0'], ['2025-10-29 05:49:09', 1761716949706.719, 'freqtrade.resolvers.strategy_resolver', 'INFO', 'Strategy using disable_dataframe_checks: True'], ['2025-10-29 05:49:09', 1761716949706.8987, 'freqtrade.resolvers.strategy_resolver', 'INFO', 'Strategy using ignore_buying_expired_candle_after: 0'], ['2025-10-29 05:49:09', 1761716949707.0789, 'freqtrade.resolvers.strategy_resolver', 'INFO', 'Strategy using position_adjustment_enable: False'], ['2025-10-29 05:49:09', 1761716949707.2612, 'freqtrade.resolvers.strategy_resolver', 'INFO', 'Strategy using max_entry_position_adjustment: -1'], ['2025-10-29 05:49:09', 1761716949707.4414, 'freqtrade.resolvers.strategy_resolver', 'INFO', 'Strategy using max_open_trades: 1'], ['2025-10-29 05:49:09', 1761716949707.6694, 'freqtrade.configuration.config_validation', 'INFO', 'Validating configuration ...'], ['2025-10-29 05:49:09', 1761716949716.9285, 'freqtrade.wallets', 'INFO', 'Wallets synced.'], ['2025-10-29 05:49:09', 1761716949717.2302, 'freqtrade.rpc.rpc_manager', 'INFO', 'Enabling rpc.api_server'], ['2025-10-29 05:49:09', 1761716949750.6135, 'freqtrade.rpc.api_server.webserver', 'INFO', 'Starting HTTP Server at 0.0.0.0:8090'], ['2025-10-29 05:49:09', 1761716949750.908, 'freqtrade.rpc.api_server.webserver', 'INFO', 'Starting Local Rest Server.'], ['2025-10-29 05:49:09', 1761716949751.5842, 'uvicorn.error', 'INFO', 'Started server process [1]'], ['2025-10-29 05:49:09', 1761716949751.8752, 'uvicorn.error', 'INFO', 'Waiting for application startup.'], ['2025-10-29 05:49:09', 1761716949752.3096, 'uvicorn.error', 'INFO', 'Application startup complete.'], ['2025-10-29 05:49:09', 1761716949752.658, 'uvicorn.error', 'INFO', 'Uvicorn running on http://0.0.0.0:8090 (Press CTRL+C to quit)'], ['2025-10-29 05:49:09', 1761716949761.2808, 'freqtrade.resolvers.iresolver', 'INFO', \"Using resolved pairlist StaticPairList from '/freqtrade/freqtrade/plugins/pairlist/StaticPairList.py'...\"], ['2025-10-29 05:49:09', 1761716949761.5962, 'freqtrade.freqtradebot', 'INFO', 'Starting initial pairlist refresh'], ['2025-10-29 05:49:09', 1761716949767.2246, 'freqtrade.plugins.pairlistmanager', 'INFO', 'Whitelist with 0 pairs: []'], ['2025-10-29 05:49:09', 1761716949767.4983, 'freqtrade.freqtradebot', 'INFO', 'Initial Pairlist refresh took 0.01s'], ['2025-10-29 05:49:09', 1761716949768.043, 'freqtrade.strategy.hyper', 'INFO', 'No params for buy found, using default values.'], ['2025-10-29 05:49:09', 1761716949768.3564, 'freqtrade.strategy.hyper', 'INFO', 'No params for sell found, using default values.'], ['2025-10-29 05:49:09', 1761716949768.6433, 'freqtrade.strategy.hyper', 'INFO', 'No params for protection found, using default values.'], ['2025-10-29 05:49:09', 1761716949768.9275, 'freqtrade.plugins.protectionmanager', 'INFO', 'No protection Handlers defined.'], ['2025-10-29 05:49:09', 1761716949769.1482, 'freqtrade.rpc.rpc_manager', 'INFO', \"Sending rpc message: {'type': status, 'status': 'running after config reloaded'}\"], ['2025-10-29 05:49:09', 1761716949769.3733, 'freqtrade.worker', 'INFO', 'Changing state from RELOAD_CONFIG to: RUNNING'], ['2025-10-29 05:49:09', 1761716949791.0972, 'freqtrade.rpc.rpc_manager', 'INFO', \"Sending rpc message: {'type': warning, 'status': 'Dry run is enabled. All trades are simulated.'}\"], ['2025-10-29 05:49:09', 1761716949791.4248, 'freqtrade.rpc.rpc_manager', 'INFO', 'Sending rpc message: {\\'type\\': startup, \\'status\\': \"*Exchange:* `binance`\\\\n*Stake per trade:* `unlimited USDT`\\\\n*Minimum ROI:* `{\\'0\\': 1}`\\\\n*Stoploss:* `-0.5`\\\\n*Position adjustment:* `Off`\\\\n*Timeframe:* `1h`\\\\n*Strategy:* `DummyStrategy`\"}'], ['2025-10-29 05:49:09', 1761716949791.7136, 'freqtrade.rpc.rpc_manager', 'INFO', 'Sending rpc message: {\\'type\\': startup, \\'status\\': \"Searching for USDT pairs to buy and sell based on [{\\'StaticPairList\\': \\'StaticPairList\\'}]\"}'], ['2025-10-29 05:49:09', 1761716949793.7312, 'freqtrade.persistence.trade_model', 'INFO', 'Found open trade: Trade(id=5, pair=GAS/USDT:USDT, amount=25.70000000, is_short=False, leverage=1.0, open_rate=2.88600000, open_since=2025-09-28 07:48:14)'], ['2025-10-29 05:49:15', 1761716955340.6929, 'freqtrade.worker', 'INFO', \"Bot heartbeat. PID=1, version='2025.7', state='RUNNING'\"], ['2025-10-29 05:50:15', 1761717015344.182, 'freqtrade.worker', 'INFO', \"Bot heartbeat. PID=1, version='2025.7', state='RUNNING'\"], ['2025-10-29 05:50:20', 1761717020345.5083, 'freqtrade.rpc.rpc_manager', 'INFO', \"Sending rpc message: {'type': status, 'status': 'reload_config'}\"], ['2025-10-29 05:50:20', 1761717020346.6257, 'freqtrade.worker', 'INFO', 'Changing state from RUNNING to: RELOAD_CONFIG'], ['2025-10-29 05:50:20', 1761717020347.282, 'freqtrade.worker', 'INFO', \"Bot heartbeat. PID=1, version='2025.7', state='RELOAD_CONFIG'\"], ['2025-10-29 05:50:20', 1761717020347.8772, 'freqtrade.freqtradebot', 'INFO', 'Cleaning up modules ...'], ['2025-10-29 05:50:20', 1761717020350.764, 'freqtrade.rpc.rpc_manager', 'INFO', 'Cleaning up rpc modules ...'], ['2025-10-29 05:50:20', 1761717020351.5469, 'freqtrade.rpc.rpc_manager', 'INFO', 'Cleaning up rpc.apiserver ...'], ['2025-10-29 05:50:20', 1761717020352.1746, 'freqtrade.rpc.api_server.webserver', 'INFO', 'Stopping API Server'], ['2025-10-29 05:50:20', 1761717020444.8606, 'uvicorn.error', 'INFO', 'Shutting down'], ['2025-10-29 05:50:20', 1761717020546.1821, 'uvicorn.error', 'INFO', 'Waiting for application shutdown.'], ['2025-10-29 05:50:20', 1761717020547.2136, 'uvicorn.error', 'INFO', 'Application shutdown complete.'], ['2025-10-29 05:50:20', 1761717020547.9124, 'uvicorn.error', 'INFO', 'Finished server process [1]'], ['2025-10-29 05:50:20', 1761717020801.1067, 'freqtrade.configuration.load_config', 'INFO', 'Using config: /freqtrade/user_data/config_binance.json ...'], ['2025-10-29 05:50:20', 1761717020806.5237, 'freqtrade.loggers', 'INFO', 'Enabling colorized output.'], ['2025-10-29 05:50:20', 1761717020807.2505, 'freqtrade.loggers', 'INFO', 'Logfile configured'], ['2025-10-29 05:50:20', 1761717020807.8718, 'freqtrade.loggers', 'INFO', 'Verbosity set to 0'], ['2025-10-29 05:50:20', 1761717020808.463, 'freqtrade.configuration.configuration', 'INFO', 'Runmode set to dry_run.'], ['2025-10-29 05:50:20', 1761717020809.0222, 'freqtrade.configuration.configuration', 'WARNING', '`force_entry_enable` RPC message enabled.'], ['2025-10-29 05:50:20', 1761717020809.5625, 'freqtrade.configuration.configuration', 'INFO', 'Dry run is enabled'], ['2025-10-29 05:50:20', 1761717020809.9597, 'freqtrade.configuration.configuration', 'INFO', 'Using DB: \"sqlite:///user_data/db/tradesv3_binance.sqlite\"'], ['2025-10-29 05:50:20', 1761717020810.1497, 'freqtrade.configuration.configuration', 'INFO', 'Using max_open_trades: 1 ...'], ['2025-10-29 05:50:20', 1761717020820.714, 'freqtrade.configuration.configuration', 'INFO', 'Using user-data directory: /freqtrade/user_data ...'], ['2025-10-29 05:50:20', 1761717020821.024, 'freqtrade.configuration.configuration', 'INFO', 'Using data directory: /freqtrade/user_data/data/binance ...'], ['2025-10-29 05:50:20', 1761717020821.275, 'freqtrade.exchange.check_exchange', 'INFO', 'Checking exchange...'], ['2025-10-29 05:50:20', 1761717020829.6006, 'freqtrade.exchange.check_exchange', 'INFO', 'Exchange \"binance\" is officially supported by the Freqtrade development team.'], ['2025-10-29 05:50:20', 1761717020829.9207, 'freqtrade.configuration.configuration', 'INFO', 'Using pairlist from configuration.'], ['2025-10-29 05:50:20', 1761717020830.293, 'freqtrade.exchange.exchange', 'INFO', 'Instance is running with dry_run enabled'], ['2025-10-29 05:50:20', 1761717020830.539, 'freqtrade.exchange.exchange', 'INFO', 'Using CCXT 4.4.96'], ['2025-10-29 05:50:20', 1761717020830.757, 'freqtrade.exchange.exchange', 'INFO', \"Applying additional ccxt config: {'options': {'defaultType': 'swap'}, 'httpsProxy': 'http://127.0.0.1:7890', 'wsProxy': 'http://127.0.0.1:7890', 'enableRateLimit': True, 'rateLimit': 50}\"], ['2025-10-29 05:50:20', 1761717020837.4956, 'freqtrade.exchange.exchange', 'INFO', \"Applying additional ccxt config: {'options': {'defaultType': 'swap'}, 'httpsProxy': 'http://127.0.0.1:7890', 'wsProxy': 'http://127.0.0.1:7890', 'enableRateLimit': True, 'rateLimit': 50}\"], ['2025-10-29 05:50:20', 1761717020845.413, 'freqtrade.exchange.exchange', 'INFO', 'Using Exchange \"Binance\"'], ['2025-10-29 05:50:22', 1761717022434.0938, 'freqtrade.resolvers.exchange_resolver', 'INFO', \"Using resolved exchange 'Binance'...\"], ['2025-10-29 05:50:22', 1761717022434.9875, 'freqtrade.resolvers.iresolver', 'INFO', \"Using resolved strategy DummyStrategy from '/freqtrade/user_data/strategies/DummyStrategy.py'...\"], ['2025-10-29 05:50:22', 1761717022435.2866, 'freqtrade.strategy.hyper', 'INFO', 'Found no parameter file.'], ['2025-10-29 05:50:22', 1761717022435.6714, 'freqtrade.resolvers.strategy_resolver', 'INFO', \"Override strategy 'stake_currency' with value in config file: USDT.\"], ['2025-10-29 05:50:22', 1761717022435.9182, 'freqtrade.resolvers.strategy_resolver', 'INFO', \"Override strategy 'stake_amount' with value in config file: unlimited.\"], ['2025-10-29 05:50:22', 1761717022436.142, 'freqtrade.resolvers.strategy_resolver', 'INFO', \"Override strategy 'unfilledtimeout' with value in config file: {'entry': 10, 'exit': 10, 'exit_timeout_count': 0, 'unit': 'minutes'}.\"], ['2025-10-29 05:50:22', 1761717022436.395, 'freqtrade.resolvers.strategy_resolver', 'INFO', \"Override strategy 'disable_dataframe_checks' with value in config file: True.\"], ['2025-10-29 05:50:22', 1761717022436.6025, 'freqtrade.resolvers.strategy_resolver', 'INFO', \"Override strategy 'max_open_trades' with value in config file: 1.\"], ['2025-10-29 05:50:22', 1761717022436.8032, 'freqtrade.resolvers.strategy_resolver', 'INFO', \"Strategy using minimal_roi: {'0': 1}\"], ['2025-10-29 05:50:22', 1761717022436.9958, 'freqtrade.resolvers.strategy_resolver', 'INFO', 'Strategy using timeframe: 1h'], ['2025-10-29 05:50:22', 1761717022437.1956, 'freqtrade.resolvers.strategy_resolver', 'INFO', 'Strategy using stoploss: -0.5'], ['2025-10-29 05:50:22', 1761717022437.3896, 'freqtrade.resolvers.strategy_resolver', 'INFO', 'Strategy using trailing_stop: False'], ['2025-10-29 05:50:22', 1761717022437.5757, 'freqtrade.resolvers.strategy_resolver', 'INFO', 'Strategy using trailing_stop_positive_offset: 0.0'], ['2025-10-29 05:50:22', 1761717022437.7627, 'freqtrade.resolvers.strategy_resolver', 'INFO', 'Strategy using trailing_only_offset_is_reached: False'], ['2025-10-29 05:50:22', 1761717022437.9478, 'freqtrade.resolvers.strategy_resolver', 'INFO', 'Strategy using use_custom_stoploss: False'], ['2025-10-29 05:50:22', 1761717022438.1304, 'freqtrade.resolvers.strategy_resolver', 'INFO', 'Strategy using process_only_new_candles: True'], ['2025-10-29 05:50:22', 1761717022438.3167, 'freqtrade.resolvers.strategy_resolver', 'INFO', \"Strategy using order_types: {'entry': 'limit', 'exit': 'limit', 'stoploss': 'limit', 'stoploss_on_exchange': False, 'stoploss_on_exchange_interval': 60, 'emergency_exit': 'market'}\"], ['2025-10-29 05:50:22', 1761717022438.5542, 'freqtrade.resolvers.strategy_resolver', 'INFO', \"Strategy using order_time_in_force: {'entry': 'GTC', 'exit': 'GTC'}\"], ['2025-10-29 05:50:22', 1761717022438.7544, 'freqtrade.resolvers.strategy_resolver', 'INFO', 'Strategy using stake_currency: USDT'], ['2025-10-29 05:50:22', 1761717022438.9407, 'freqtrade.resolvers.strategy_resolver', 'INFO', 'Strategy using stake_amount: unlimited'], ['2025-10-29 05:50:22', 1761717022439.1255, 'freqtrade.resolvers.strategy_resolver', 'INFO', 'Strategy using startup_candle_count: 0'], ['2025-10-29 05:50:22', 1761717022439.3083, 'freqtrade.resolvers.strategy_resolver', 'INFO', \"Strategy using unfilledtimeout: {'entry': 10, 'exit': 10, 'exit_timeout_count': 0, 'unit': 'minutes'}\"], ['2025-10-29 05:50:22', 1761717022439.501, 'freqtrade.resolvers.strategy_resolver', 'INFO', 'Strategy using use_exit_signal: False'], ['2025-10-29 05:50:22', 1761717022439.68, 'freqtrade.resolvers.strategy_resolver', 'INFO', 'Strategy using exit_profit_only: False'], ['2025-10-29 05:50:22', 1761717022439.857, 'freqtrade.resolvers.strategy_resolver', 'INFO', 'Strategy using ignore_roi_if_entry_signal: False'], ['2025-10-29 05:50:22', 1761717022440.0413, 'freqtrade.resolvers.strategy_resolver', 'INFO', 'Strategy using exit_profit_offset: 0.0'], ['2025-10-29 05:50:22', 1761717022440.234, 'freqtrade.resolvers.strategy_resolver', 'INFO', 'Strategy using disable_dataframe_checks: True'], ['2025-10-29 05:50:22', 1761717022440.4172, 'freqtrade.resolvers.strategy_resolver', 'INFO', 'Strategy using ignore_buying_expired_candle_after: 0'], ['2025-10-29 05:50:22', 1761717022440.5977, 'freqtrade.resolvers.strategy_resolver', 'INFO', 'Strategy using position_adjustment_enable: False'], ['2025-10-29 05:50:22', 1761717022440.7761, 'freqtrade.resolvers.strategy_resolver', 'INFO', 'Strategy using max_entry_position_adjustment: -1'], ['2025-10-29 05:50:22', 1761717022440.956, 'freqtrade.resolvers.strategy_resolver', 'INFO', 'Strategy using max_open_trades: 1'], ['2025-10-29 05:50:22', 1761717022441.1729, 'freqtrade.configuration.config_validation', 'INFO', 'Validating configuration ...'], ['2025-10-29 05:50:22', 1761717022450.124, 'freqtrade.wallets', 'INFO', 'Wallets synced.'], ['2025-10-29 05:50:22', 1761717022450.4265, 'freqtrade.rpc.rpc_manager', 'INFO', 'Enabling rpc.api_server'], ['2025-10-29 05:50:22', 1761717022484.325, 'freqtrade.rpc.api_server.webserver', 'INFO', 'Starting HTTP Server at 0.0.0.0:8090'], ['2025-10-29 05:50:22', 1761717022484.6174, 'freqtrade.rpc.api_server.webserver', 'INFO', 'Starting Local Rest Server.'], ['2025-10-29 05:50:22', 1761717022485.35, 'uvicorn.error', 'INFO', 'Started server process [1]'], ['2025-10-29 05:50:22', 1761717022485.6548, 'uvicorn.error', 'INFO', 'Waiting for application startup.'], ['2025-10-29 05:50:22', 1761717022485.9902, 'uvicorn.error', 'INFO', 'Application startup complete.'], ['2025-10-29 05:50:22', 1761717022486.326, 'uvicorn.error', 'INFO', 'Uvicorn running on http://0.0.0.0:8090 (Press CTRL+C to quit)'], ['2025-10-29 05:50:22', 1761717022494.826, 'freqtrade.resolvers.iresolver', 'INFO', \"Using resolved pairlist StaticPairList from '/freqtrade/freqtrade/plugins/pairlist/StaticPairList.py'...\"], ['2025-10-29 05:50:22', 1761717022495.1257, 'freqtrade.freqtradebot', 'INFO', 'Starting initial pairlist refresh'], ['2025-10-29 05:50:22', 1761717022500.6877, 'freqtrade.plugins.pairlistmanager', 'INFO', 'Whitelist with 0 pairs: []'], ['2025-10-29 05:50:22', 1761717022500.9521, 'freqtrade.freqtradebot', 'INFO', 'Initial Pairlist refresh took 0.01s'], ['2025-10-29 05:50:22', 1761717022501.4744, 'freqtrade.strategy.hyper', 'INFO', 'No params for buy found, using default values.'], ['2025-10-29 05:50:22', 1761717022501.796, 'freqtrade.strategy.hyper', 'INFO', 'No params for sell found, using default values.'], ['2025-10-29 05:50:22', 1761717022502.0676, 'freqtrade.strategy.hyper', 'INFO', 'No params for protection found, using default values.'], ['2025-10-29 05:50:22', 1761717022502.335, 'freqtrade.plugins.protectionmanager', 'INFO', 'No protection Handlers defined.'], ['2025-10-29 05:50:22', 1761717022502.544, 'freqtrade.rpc.rpc_manager', 'INFO', \"Sending rpc message: {'type': status, 'status': 'running after config reloaded'}\"], ['2025-10-29 05:50:22', 1761717022502.7612, 'freqtrade.worker', 'INFO', 'Changing state from RELOAD_CONFIG to: RUNNING'], ['2025-10-29 05:50:22', 1761717022520.7537, 'freqtrade.rpc.rpc_manager', 'INFO', \"Sending rpc message: {'type': warning, 'status': 'Dry run is enabled. All trades are simulated.'}\"], ['2025-10-29 05:50:22', 1761717022521.0762, 'freqtrade.rpc.rpc_manager', 'INFO', 'Sending rpc message: {\\'type\\': startup, \\'status\\': \"*Exchange:* `binance`\\\\n*Stake per trade:* `unlimited USDT`\\\\n*Minimum ROI:* `{\\'0\\': 1}`\\\\n*Stoploss:* `-0.5`\\\\n*Position adjustment:* `Off`\\\\n*Timeframe:* `1h`\\\\n*Strategy:* `DummyStrategy`\"}'], ['2025-10-29 05:50:22', 1761717022521.363, 'freqtrade.rpc.rpc_manager', 'INFO', 'Sending rpc message: {\\'type\\': startup, \\'status\\': \"Searching for USDT pairs to buy and sell based on [{\\'StaticPairList\\': \\'StaticPairList\\'}]\"}'], ['2025-10-29 05:50:22', 1761717022523.3542, 'freqtrade.persistence.trade_model', 'INFO', 'Found open trade: Trade(id=5, pair=GAS/USDT:USDT, amount=25.70000000, is_short=False, leverage=1.0, open_rate=2.88600000, open_since=2025-09-28 07:48:14)'], ['2025-10-29 05:50:28', 1761717028025.9058, 'freqtrade.worker', 'INFO', \"Bot heartbeat. PID=1, version='2025.7', state='RUNNING'\"], ['2025-10-29 05:51:28', 1761717088028.984, 'freqtrade.worker', 'INFO', \"Bot heartbeat. PID=1, version='2025.7', state='RUNNING'\"], ['2025-10-29 05:52:28', 1761717148032.2432, 'freqtrade.worker', 'INFO', \"Bot heartbeat. PID=1, version='2025.7', state='RUNNING'\"], ['2025-10-29 05:53:28', 1761717208035.46, 'freqtrade.worker', 'INFO', \"Bot heartbeat. PID=1, version='2025.7', state='RUNNING'\"], ['2025-10-29 05:54:28', 1761717268038.7336, 'freqtrade.worker', 'INFO', \"Bot heartbeat. PID=1, version='2025.7', state='RUNNING'\"], ['2025-10-29 05:55:28', 1761717328042.1042, 'freqtrade.worker', 'INFO', \"Bot heartbeat. PID=1, version='2025.7', state='RUNNING'\"]]}\n"
     ]
    }
   ],
   "source": [
    "result=binance_bot.logs()\n",
    "print(result)"
   ],
   "metadata": {
    "collapsed": false,
    "ExecuteTime": {
     "end_time": "2025-10-29T05:55:55.182769Z",
     "start_time": "2025-10-29T05:55:55.170271Z"
    }
   },
   "id": "e78c14b0d3cb7de0",
   "execution_count": 30
  },
  {
   "cell_type": "markdown",
   "source": [
    "# 3交易相关"
   ],
   "metadata": {
    "collapsed": false
   },
   "id": "bd5a0ce87c86617c"
  },
  {
   "cell_type": "code",
   "outputs": [
    {
     "name": "stdout",
     "output_type": "stream",
     "text": [
      "{'trades': [{'trade_id': 1, 'pair': 'GAS/USDT:USDT', 'base_currency': 'GAS', 'quote_currency': 'USDT', 'is_open': False, 'exchange': 'binance', 'amount': 25.7, 'amount_requested': 25.75328354, 'stake_amount': 74.1188, 'max_stake_amount': 74.1188, 'strategy': 'DummyStrategy', 'enter_tag': 'force_entry', 'timeframe': 60, 'fee_open': 0.0005, 'fee_open_cost': 0.0370594, 'fee_open_currency': 'USDT', 'fee_close': 0.0005, 'fee_close_cost': 0.0370594, 'fee_close_currency': 'USDT', 'open_date': '2025-09-28 07:40:26', 'open_timestamp': 1759045226284, 'open_fill_date': '2025-09-28 07:40:26', 'open_fill_timestamp': 1759045226283, 'open_rate': 2.884, 'open_rate_requested': 3.883, 'open_trade_value': 74.1558594, 'close_date': '2025-09-28 07:41:33', 'close_timestamp': 1759045293552, 'realized_profit': -0.0741188, 'realized_profit_ratio': -0.0009995002498750624, 'close_rate': 2.884, 'close_rate_requested': 2.885, 'close_profit': -0.0009995002498750624, 'close_profit_pct': -0.1, 'close_profit_abs': -0.0741188, 'trade_duration_s': 67, 'trade_duration': 1, 'profit_ratio': -0.0009995002498750624, 'profit_pct': -0.1, 'profit_abs': -0.0741188, 'exit_reason': 'force_exit', 'exit_order_status': 'closed', 'stop_loss_abs': 1.442, 'stop_loss_ratio': -0.5, 'stop_loss_pct': -50.0, 'stoploss_last_update': None, 'stoploss_last_update_timestamp': None, 'initial_stop_loss_abs': 1.442, 'initial_stop_loss_ratio': -0.5, 'initial_stop_loss_pct': -50.0, 'min_rate': 2.884, 'max_rate': 2.885, 'leverage': 1.0, 'interest_rate': 0.0, 'liquidation_price': 0.144, 'is_short': False, 'trading_mode': 'futures', 'funding_fees': 0.0, 'amount_precision': 0.1, 'price_precision': 0.001, 'precision_mode': 4, 'precision_mode_price': 4, 'contract_size': 1.0, 'has_open_orders': False, 'orders': [{'amount': 25.7, 'safe_price': 2.884, 'ft_order_side': 'buy', 'order_filled_timestamp': 1759045226283, 'ft_is_entry': True, 'ft_order_tag': 'force_entry', 'cost': 74.1188, 'pair': 'GAS/USDT:USDT', 'order_id': 'dry_run_buy_GAS/USDT:USDT_1759045225.937515', 'status': 'closed', 'average': 2.884, 'filled': 25.7, 'is_open': False, 'order_date': '2025-09-28 07:40:25', 'order_timestamp': 1759045225937, 'order_filled_date': '2025-09-28 07:40:26', 'order_type': 'market', 'price': 3.883, 'remaining': 0.0, 'ft_fee_base': None, 'funding_fee': None}, {'amount': 25.7, 'safe_price': 2.884, 'ft_order_side': 'sell', 'order_filled_timestamp': 1759045293552, 'ft_is_entry': False, 'ft_order_tag': 'force_exit', 'cost': 74.1188, 'pair': 'GAS/USDT:USDT', 'order_id': 'dry_run_sell_GAS/USDT:USDT_1759045293.440051', 'status': 'closed', 'average': 2.884, 'filled': 25.7, 'is_open': False, 'order_date': '2025-09-28 07:41:33', 'order_timestamp': 1759045293440, 'order_filled_date': '2025-09-28 07:41:33', 'order_type': 'market', 'price': 2.885, 'remaining': 0.0, 'ft_fee_base': None, 'funding_fee': 0.0}]}, {'trade_id': 2, 'pair': 'GAS/USDT:USDT', 'base_currency': 'GAS', 'quote_currency': 'USDT', 'is_open': False, 'exchange': 'binance', 'amount': 25.7, 'amount_requested': 25.74665294, 'stake_amount': 74.1445, 'max_stake_amount': 74.1445, 'strategy': 'DummyStrategy', 'enter_tag': 'force_entry', 'timeframe': 60, 'fee_open': 0.0005, 'fee_open_cost': 0.03707225, 'fee_open_currency': 'USDT', 'fee_close': 0.0005, 'fee_close_cost': 0.03707225, 'fee_close_currency': 'USDT', 'open_date': '2025-09-28 07:41:55', 'open_timestamp': 1759045315135, 'open_fill_date': '2025-09-28 07:41:55', 'open_fill_timestamp': 1759045315134, 'open_rate': 2.885, 'open_rate_requested': 3.884, 'open_trade_value': 74.18157225, 'close_date': '2025-09-28 07:43:35', 'close_timestamp': 1759045415942, 'realized_profit': -0.0741445, 'realized_profit_ratio': -0.0009995002498750624, 'close_rate': 2.885, 'close_rate_requested': 2.886, 'close_profit': -0.0009995002498750624, 'close_profit_pct': -0.1, 'close_profit_abs': -0.0741445, 'trade_duration_s': 100, 'trade_duration': 1, 'profit_ratio': -0.0009995002498750624, 'profit_pct': -0.1, 'profit_abs': -0.0741445, 'exit_reason': 'force_exit', 'exit_order_status': 'closed', 'stop_loss_abs': 1.443, 'stop_loss_ratio': -0.5, 'stop_loss_pct': -50.0, 'stoploss_last_update': None, 'stoploss_last_update_timestamp': None, 'initial_stop_loss_abs': 1.443, 'initial_stop_loss_ratio': -0.5, 'initial_stop_loss_pct': -50.0, 'min_rate': 2.884, 'max_rate': 2.886, 'leverage': 1.0, 'interest_rate': 0.0, 'liquidation_price': 0.144, 'is_short': False, 'trading_mode': 'futures', 'funding_fees': 0.0, 'amount_precision': 0.1, 'price_precision': 0.001, 'precision_mode': 4, 'precision_mode_price': 4, 'contract_size': 1.0, 'has_open_orders': False, 'orders': [{'amount': 25.7, 'safe_price': 2.885, 'ft_order_side': 'buy', 'order_filled_timestamp': 1759045315134, 'ft_is_entry': True, 'ft_order_tag': 'force_entry', 'cost': 74.1445, 'pair': 'GAS/USDT:USDT', 'order_id': 'dry_run_buy_GAS/USDT:USDT_1759045315.013943', 'status': 'closed', 'average': 2.885, 'filled': 25.7, 'is_open': False, 'order_date': '2025-09-28 07:41:55', 'order_timestamp': 1759045315013, 'order_filled_date': '2025-09-28 07:41:55', 'order_type': 'market', 'price': 3.884, 'remaining': 0.0, 'ft_fee_base': None, 'funding_fee': None}, {'amount': 25.7, 'safe_price': 2.885, 'ft_order_side': 'sell', 'order_filled_timestamp': 1759045415942, 'ft_is_entry': False, 'ft_order_tag': 'force_exit', 'cost': 74.1445, 'pair': 'GAS/USDT:USDT', 'order_id': 'dry_run_sell_GAS/USDT:USDT_1759045415.826716', 'status': 'closed', 'average': 2.885, 'filled': 25.7, 'is_open': False, 'order_date': '2025-09-28 07:43:35', 'order_timestamp': 1759045415826, 'order_filled_date': '2025-09-28 07:43:35', 'order_type': 'market', 'price': 2.886, 'remaining': 0.0, 'ft_fee_base': None, 'funding_fee': 0.0}]}, {'trade_id': 3, 'pair': 'GAS/USDT:USDT', 'base_currency': 'GAS', 'quote_currency': 'USDT', 'is_open': False, 'exchange': 'binance', 'amount': 25.7, 'amount_requested': 25.73340196, 'stake_amount': 74.1959, 'max_stake_amount': 74.1959, 'strategy': 'DummyStrategy', 'enter_tag': 'force_entry', 'timeframe': 60, 'fee_open': 0.0005, 'fee_open_cost': 0.03709795, 'fee_open_currency': 'USDT', 'fee_close': 0.0005, 'fee_close_cost': 0.03707225, 'fee_close_currency': 'USDT', 'open_date': '2025-09-28 07:44:09', 'open_timestamp': 1759045449944, 'open_fill_date': '2025-09-28 07:44:09', 'open_fill_timestamp': 1759045449943, 'open_rate': 2.887, 'open_rate_requested': 3.886, 'open_trade_value': 74.23299795, 'close_date': '2025-09-28 07:45:47', 'close_timestamp': 1759045547318, 'realized_profit': -0.1255702, 'realized_profit_ratio': -0.0016915684866261015, 'close_rate': 2.885, 'close_rate_requested': 2.886, 'close_profit': -0.0016915684866261015, 'close_profit_pct': -0.17, 'close_profit_abs': -0.1255702, 'trade_duration_s': 97, 'trade_duration': 1, 'profit_ratio': -0.0016915684866261015, 'profit_pct': -0.17, 'profit_abs': -0.1255702, 'exit_reason': 'force_exit', 'exit_order_status': 'closed', 'stop_loss_abs': 1.444, 'stop_loss_ratio': -0.5, 'stop_loss_pct': -50.0, 'stoploss_last_update': None, 'stoploss_last_update_timestamp': None, 'initial_stop_loss_abs': 1.444, 'initial_stop_loss_ratio': -0.5, 'initial_stop_loss_pct': -50.0, 'min_rate': 2.886, 'max_rate': 2.888, 'leverage': 1.0, 'interest_rate': 0.0, 'liquidation_price': 0.144, 'is_short': False, 'trading_mode': 'futures', 'funding_fees': 0.0, 'amount_precision': 0.1, 'price_precision': 0.001, 'precision_mode': 4, 'precision_mode_price': 4, 'contract_size': 1.0, 'has_open_orders': False, 'orders': [{'amount': 25.7, 'safe_price': 2.887, 'ft_order_side': 'buy', 'order_filled_timestamp': 1759045449943, 'ft_is_entry': True, 'ft_order_tag': 'force_entry', 'cost': 74.1959, 'pair': 'GAS/USDT:USDT', 'order_id': 'dry_run_buy_GAS/USDT:USDT_1759045449.828718', 'status': 'closed', 'average': 2.887, 'filled': 25.7, 'is_open': False, 'order_date': '2025-09-28 07:44:09', 'order_timestamp': 1759045449828, 'order_filled_date': '2025-09-28 07:44:09', 'order_type': 'market', 'price': 3.886, 'remaining': 0.0, 'ft_fee_base': None, 'funding_fee': None}, {'amount': 25.7, 'safe_price': 2.885, 'ft_order_side': 'sell', 'order_filled_timestamp': 1759045547318, 'ft_is_entry': False, 'ft_order_tag': 'force_exit', 'cost': 74.1445, 'pair': 'GAS/USDT:USDT', 'order_id': 'dry_run_sell_GAS/USDT:USDT_1759045547.208091', 'status': 'closed', 'average': 2.885, 'filled': 25.7, 'is_open': False, 'order_date': '2025-09-28 07:45:47', 'order_timestamp': 1759045547208, 'order_filled_date': '2025-09-28 07:45:47', 'order_type': 'market', 'price': 2.886, 'remaining': 0.0, 'ft_fee_base': None, 'funding_fee': 0.0}]}, {'trade_id': 4, 'pair': 'GAS/USDT:USDT', 'base_currency': 'GAS', 'quote_currency': 'USDT', 'is_open': False, 'exchange': 'binance', 'amount': 25.7, 'amount_requested': 25.73340196, 'stake_amount': 74.1702, 'max_stake_amount': 74.1702, 'strategy': 'DummyStrategy', 'enter_tag': 'force_entry', 'timeframe': 60, 'fee_open': 0.0005, 'fee_open_cost': 0.037085099999999996, 'fee_open_currency': 'USDT', 'fee_close': 0.0005, 'fee_close_cost': 0.0370594, 'fee_close_currency': 'USDT', 'open_date': '2025-09-28 07:45:54', 'open_timestamp': 1759045554974, 'open_fill_date': '2025-09-28 07:45:54', 'open_fill_timestamp': 1759045554973, 'open_rate': 2.886, 'open_rate_requested': 3.886, 'open_trade_value': 74.2072851, 'close_date': '2025-09-28 07:47:33', 'close_timestamp': 1759045653909, 'realized_profit': -0.1255445, 'realized_profit_ratio': -0.0016918082885099377, 'close_rate': 2.884, 'close_rate_requested': 2.885, 'close_profit': -0.0016918082885099377, 'close_profit_pct': -0.17, 'close_profit_abs': -0.1255445, 'trade_duration_s': 98, 'trade_duration': 1, 'profit_ratio': -0.0016918082885099377, 'profit_pct': -0.17, 'profit_abs': -0.1255445, 'exit_reason': 'force_exit', 'exit_order_status': 'closed', 'stop_loss_abs': 1.443, 'stop_loss_ratio': -0.5, 'stop_loss_pct': -50.0, 'stoploss_last_update': None, 'stoploss_last_update_timestamp': None, 'initial_stop_loss_abs': 1.443, 'initial_stop_loss_ratio': -0.5, 'initial_stop_loss_pct': -50.0, 'min_rate': 2.885, 'max_rate': 2.886, 'leverage': 1.0, 'interest_rate': 0.0, 'liquidation_price': 0.144, 'is_short': False, 'trading_mode': 'futures', 'funding_fees': 0.0, 'amount_precision': 0.1, 'price_precision': 0.001, 'precision_mode': 4, 'precision_mode_price': 4, 'contract_size': 1.0, 'has_open_orders': False, 'orders': [{'amount': 25.7, 'safe_price': 2.886, 'ft_order_side': 'buy', 'order_filled_timestamp': 1759045554973, 'ft_is_entry': True, 'ft_order_tag': 'force_entry', 'cost': 74.1702, 'pair': 'GAS/USDT:USDT', 'order_id': 'dry_run_buy_GAS/USDT:USDT_1759045554.855784', 'status': 'closed', 'average': 2.886, 'filled': 25.7, 'is_open': False, 'order_date': '2025-09-28 07:45:54', 'order_timestamp': 1759045554855, 'order_filled_date': '2025-09-28 07:45:54', 'order_type': 'market', 'price': 3.886, 'remaining': 0.0, 'ft_fee_base': None, 'funding_fee': None}, {'amount': 25.7, 'safe_price': 2.884, 'ft_order_side': 'sell', 'order_filled_timestamp': 1759045653909, 'ft_is_entry': False, 'ft_order_tag': 'force_exit', 'cost': 74.1188, 'pair': 'GAS/USDT:USDT', 'order_id': 'dry_run_sell_GAS/USDT:USDT_1759045653.794755', 'status': 'closed', 'average': 2.884, 'filled': 25.7, 'is_open': False, 'order_date': '2025-09-28 07:47:33', 'order_timestamp': 1759045653794, 'order_filled_date': '2025-09-28 07:47:33', 'order_type': 'market', 'price': 2.885, 'remaining': 0.0, 'ft_fee_base': None, 'funding_fee': 0.0}]}], 'trades_count': 4, 'offset': 0, 'total_trades': 4}\n"
     ]
    }
   ],
   "source": [
    "result=binance_bot.trades()\n",
    "print(result)\n",
    "# print(json.dumps(result, indent=4, ensure_ascii=False))"
   ],
   "metadata": {
    "collapsed": false,
    "ExecuteTime": {
     "end_time": "2025-10-29T06:03:09.154296Z",
     "start_time": "2025-10-29T06:03:09.142562Z"
    }
   },
   "id": "b9a38718f5822ca9",
   "execution_count": 50
  },
  {
   "cell_type": "code",
   "outputs": [
    {
     "name": "stdout",
     "output_type": "stream",
     "text": [
      "{'whitelist': ['GAS/USDT:USDT'], 'length': 1, 'method': ['StaticPairList']}\n"
     ]
    }
   ],
   "source": [
    "result=binance_bot.whitelist()\n",
    "print(result)"
   ],
   "metadata": {
    "collapsed": false,
    "ExecuteTime": {
     "end_time": "2025-10-29T05:56:26.436993Z",
     "start_time": "2025-10-29T05:56:26.429724Z"
    }
   },
   "id": "a1a9d4da7a81a549",
   "execution_count": 33
  },
  {
   "cell_type": "code",
   "outputs": [
    {
     "name": "stdout",
     "output_type": "stream",
     "text": [
      "{'blacklist': [], 'blacklist_expanded': [], 'errors': {}, 'length': 0, 'method': ['StaticPairList']}\n"
     ]
    }
   ],
   "source": [
    "result=binance_bot.blacklist()\n",
    "print(result)"
   ],
   "metadata": {
    "collapsed": false,
    "ExecuteTime": {
     "end_time": "2025-10-29T05:56:31.449545Z",
     "start_time": "2025-10-29T05:56:31.437296Z"
    }
   },
   "id": "5fea3217e1cd3cb",
   "execution_count": 34
  },
  {
   "cell_type": "code",
   "outputs": [
    {
     "name": "stdout",
     "output_type": "stream",
     "text": [
      "{'strategies': ['DummyStrategy']}\n"
     ]
    }
   ],
   "source": [
    "result=binance_bot.strategies()\n",
    "print(result)"
   ],
   "metadata": {
    "collapsed": false,
    "ExecuteTime": {
     "end_time": "2025-10-29T05:56:35.151432Z",
     "start_time": "2025-10-29T05:56:35.144059Z"
    }
   },
   "id": "db4123de578d976a",
   "execution_count": 35
  },
  {
   "cell_type": "code",
   "outputs": [
    {
     "name": "stdout",
     "output_type": "stream",
     "text": [
      "{'detail': 'Bot is not in the correct state.'}\n"
     ]
    }
   ],
   "source": [
    "result=binance_bot.pairlists_available()\n",
    "print(result)"
   ],
   "metadata": {
    "collapsed": false,
    "ExecuteTime": {
     "end_time": "2025-10-27T09:22:10.025438Z",
     "start_time": "2025-10-27T09:22:10.018789Z"
    }
   },
   "id": "29d6233bec368abf",
   "execution_count": 23
  },
  {
   "cell_type": "code",
   "outputs": [
    {
     "name": "stdout",
     "output_type": "stream",
     "text": [
      "{}\n"
     ]
    }
   ],
   "source": [
    "result=binance_bot.plot_config()\n",
    "print(result)"
   ],
   "metadata": {
    "collapsed": false,
    "ExecuteTime": {
     "end_time": "2025-10-29T05:56:47.344591Z",
     "start_time": "2025-10-29T05:56:47.337781Z"
    }
   },
   "id": "5e5402b084eb062d",
   "execution_count": 36
  },
  {
   "cell_type": "code",
   "outputs": [
    {
     "name": "stdout",
     "output_type": "stream",
     "text": [
      "{'length': 0, 'pairs': [], 'pair_interval': []}\n"
     ]
    }
   ],
   "source": [
    "result=binance_bot.available_pairs()\n",
    "print(result)"
   ],
   "metadata": {
    "collapsed": false,
    "ExecuteTime": {
     "end_time": "2025-10-29T05:56:50.081136Z",
     "start_time": "2025-10-29T05:56:50.075753Z"
    }
   },
   "id": "ab6c8f4118f8504b",
   "execution_count": 37
  },
  {
   "cell_type": "code",
   "outputs": [
    {
     "name": "stdout",
     "output_type": "stream",
     "text": [
      "{'cpu_pct': [3.0, 0.0, 2.0, 0.0, 5.0, 2.0, 6.0, 0.0, 8.1, 0.0, 12.9, 1.0, 3.0, 1.0, 7.8, 1.0, 4.1, 4.0, 4.0, 2.0, 5.9, 4.0, 1.0, 3.0, 3.9, 2.0, 2.0, 3.0, 2.0, 2.0, 3.0, 3.0], 'ram_pct': 10.7}\n"
     ]
    }
   ],
   "source": [
    "result=binance_bot.sysinfo()\n",
    "print(result)"
   ],
   "metadata": {
    "collapsed": false,
    "ExecuteTime": {
     "end_time": "2025-10-29T05:56:54.811883Z",
     "start_time": "2025-10-29T05:56:53.803698Z"
    }
   },
   "id": "aa5b0c113315fa6c",
   "execution_count": 38
  },
  {
   "cell_type": "code",
   "outputs": [
    {
     "name": "stdout",
     "output_type": "stream",
     "text": [
      "{'last_process': '2025-10-29T05:56:53.184606Z', 'last_process_ts': 1761717413, 'bot_start': '2025-09-28T07:35:24.540093Z', 'bot_start_ts': 1759044924, 'bot_startup': '2025-10-29T05:50:22.504497Z', 'bot_startup_ts': 1761717022}\n"
     ]
    }
   ],
   "source": [
    "result=binance_bot.health()\n",
    "print(result)"
   ],
   "metadata": {
    "collapsed": false,
    "ExecuteTime": {
     "end_time": "2025-10-29T05:56:57.989091Z",
     "start_time": "2025-10-29T05:56:57.980325Z"
    }
   },
   "id": "631327f55e1b58fb",
   "execution_count": 39
  },
  {
   "cell_type": "code",
   "outputs": [
    {
     "ename": "TypeError",
     "evalue": "FtRestClient.pair_history() missing 3 required positional arguments: 'pair', 'timeframe', and 'strategy'",
     "output_type": "error",
     "traceback": [
      "\u001B[31m---------------------------------------------------------------------------\u001B[39m",
      "\u001B[31mTypeError\u001B[39m                                 Traceback (most recent call last)",
      "\u001B[36mCell\u001B[39m\u001B[36m \u001B[39m\u001B[32mIn[51]\u001B[39m\u001B[32m, line 1\u001B[39m\n\u001B[32m----> \u001B[39m\u001B[32m1\u001B[39m result=binance_bot.pair_history()\n\u001B[32m      2\u001B[39m \u001B[38;5;28mprint\u001B[39m(result)\n",
      "\u001B[31mTypeError\u001B[39m: FtRestClient.pair_history() missing 3 required positional arguments: 'pair', 'timeframe', and 'strategy'"
     ]
    }
   ],
   "source": [
    "result=binance_bot.pair_history()\n",
    "print(result)"
   ],
   "metadata": {
    "collapsed": false,
    "ExecuteTime": {
     "end_time": "2025-10-29T06:05:11.092148Z",
     "start_time": "2025-10-29T06:05:10.877756Z"
    }
   },
   "id": "590d586bf42093b0",
   "execution_count": 51
  },
  {
   "cell_type": "code",
   "outputs": [],
   "source": [],
   "metadata": {
    "collapsed": false
   },
   "id": "4f00113e5f461512"
  }
 ],
 "metadata": {
  "kernelspec": {
   "display_name": "Python 3",
   "language": "python",
   "name": "python3"
  },
  "language_info": {
   "codemirror_mode": {
    "name": "ipython",
    "version": 2
   },
   "file_extension": ".py",
   "mimetype": "text/x-python",
   "name": "python",
   "nbconvert_exporter": "python",
   "pygments_lexer": "ipython2",
   "version": "2.7.6"
  }
 },
 "nbformat": 4,
 "nbformat_minor": 5
}
