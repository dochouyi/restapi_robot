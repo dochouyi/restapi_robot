{
 "cells": [
  {
   "cell_type": "code",
   "execution_count": 2,
   "id": "initial_id",
   "metadata": {
    "collapsed": true,
    "ExecuteTime": {
     "end_time": "2025-10-27T09:14:16.682964Z",
     "start_time": "2025-10-27T09:14:16.678828Z"
    }
   },
   "outputs": [],
   "source": [
    "from freqtrade_client import FtRestClient\n",
    "\n",
    "\n",
    "binance_bot = FtRestClient(serverurl=\"http://127.0.0.1:8080\",username=\"freqtrader\",password=\"123456\")"
   ]
  },
  {
   "cell_type": "markdown",
   "source": [
    "启动机器人\n"
   ],
   "metadata": {
    "collapsed": false
   },
   "id": "285f9270672e1463"
  },
  {
   "cell_type": "code",
   "outputs": [
    {
     "name": "stdout",
     "output_type": "stream",
     "text": [
      "{'status': 'starting trader ...'}\n"
     ]
    }
   ],
   "source": [
    "result=binance_bot.start()\n",
    "print(result)"
   ],
   "metadata": {
    "collapsed": false,
    "ExecuteTime": {
     "end_time": "2025-10-27T09:14:28.426617Z",
     "start_time": "2025-10-27T09:14:28.414587Z"
    }
   },
   "id": "6a526cba68090a76",
   "execution_count": 4
  },
  {
   "cell_type": "code",
   "outputs": [
    {
     "name": "stdout",
     "output_type": "stream",
     "text": [
      "{'status': 'stopping trader ...'}\n"
     ]
    }
   ],
   "source": [
    "result=binance_bot.stop()\n",
    "print(result)"
   ],
   "metadata": {
    "collapsed": false,
    "ExecuteTime": {
     "end_time": "2025-10-27T09:15:29.786967Z",
     "start_time": "2025-10-27T09:15:29.780490Z"
    }
   },
   "id": "fcb0329039f96247",
   "execution_count": 5
  },
  {
   "cell_type": "code",
   "outputs": [
    {
     "name": "stdout",
     "output_type": "stream",
     "text": [
      "{'status': 'starting bot with trader in paused state, no entries will occur. Run /start to enable entries.'}\n"
     ]
    }
   ],
   "source": [
    "result=binance_bot.stopbuy()\n",
    "print(result)"
   ],
   "metadata": {
    "collapsed": false,
    "ExecuteTime": {
     "end_time": "2025-10-27T09:15:51.574899Z",
     "start_time": "2025-10-27T09:15:51.565567Z"
    }
   },
   "id": "ef2ac7dad8557902",
   "execution_count": 6
  },
  {
   "cell_type": "code",
   "outputs": [
    {
     "name": "stdout",
     "output_type": "stream",
     "text": [
      "{'status': 'Reloading config ...'}\n"
     ]
    }
   ],
   "source": [
    "result=binance_bot.reload_config()\n",
    "print(result)"
   ],
   "metadata": {
    "collapsed": false,
    "ExecuteTime": {
     "end_time": "2025-10-27T09:16:22.230387Z",
     "start_time": "2025-10-27T09:16:22.223607Z"
    }
   },
   "id": "556b0cc6b76db638",
   "execution_count": 7
  },
  {
   "cell_type": "markdown",
   "source": [
    "reload_config之后默认是STOP状态"
   ],
   "metadata": {
    "collapsed": false
   },
   "id": "68cce4e2034d5d7a"
  },
  {
   "cell_type": "code",
   "outputs": [
    {
     "name": "stdout",
     "output_type": "stream",
     "text": [
      "{'currencies': [{'currency': 'USDT', 'free': 1000.0, 'balance': 1000.0, 'used': 0.0, 'bot_owned': 990.0, 'est_stake': 1000.0, 'est_stake_bot': 990.0, 'stake': 'USDT', 'side': 'long', 'is_position': False, 'position': 0.0, 'is_bot_managed': True}], 'total': 1000.0, 'total_bot': 990.0, 'symbol': '', 'value': 0.0, 'value_bot': 0.0, 'stake': 'USDT', 'note': 'Simulated balances', 'starting_capital': 990.0, 'starting_capital_ratio': 0.0, 'starting_capital_pct': 0.0, 'starting_capital_fiat': 0.0, 'starting_capital_fiat_ratio': 0.0, 'starting_capital_fiat_pct': 0.0}\n"
     ]
    }
   ],
   "source": [
    "result=binance_bot.balance()\n",
    "print(result)"
   ],
   "metadata": {
    "collapsed": false,
    "ExecuteTime": {
     "end_time": "2025-10-27T09:17:21.140088Z",
     "start_time": "2025-10-27T09:17:21.132095Z"
    }
   },
   "id": "d09cc8c68e2bbfc2",
   "execution_count": 8
  },
  {
   "cell_type": "code",
   "outputs": [
    {
     "name": "stdout",
     "output_type": "stream",
     "text": [
      "[]\n"
     ]
    }
   ],
   "source": [
    "result=binance_bot.status()\n",
    "print(result)"
   ],
   "metadata": {
    "collapsed": false,
    "ExecuteTime": {
     "end_time": "2025-10-27T09:18:25.674134Z",
     "start_time": "2025-10-27T09:18:25.665783Z"
    }
   },
   "id": "a7c12ea010b23408",
   "execution_count": 9
  },
  {
   "cell_type": "code",
   "outputs": [
    {
     "name": "stdout",
     "output_type": "stream",
     "text": [
      "{'version': '2025.7', 'strategy_version': None, 'api_version': 2.43, 'dry_run': True, 'trading_mode': 'futures', 'short_allowed': True, 'stake_currency': 'USDT', 'stake_amount': 'unlimited', 'available_capital': None, 'stake_currency_decimals': 3, 'max_open_trades': 1.0, 'minimal_roi': {'0': 1}, 'stoploss': -0.5, 'stoploss_on_exchange': False, 'trailing_stop': False, 'trailing_stop_positive': None, 'trailing_stop_positive_offset': 0.0, 'trailing_only_offset_is_reached': False, 'unfilledtimeout': {'entry': 10, 'exit': 10, 'unit': 'minutes', 'exit_timeout_count': 0}, 'order_types': {'entry': 'limit', 'exit': 'limit', 'emergency_exit': 'market', 'force_exit': None, 'force_entry': None, 'stoploss': 'limit', 'stoploss_on_exchange': False, 'stoploss_on_exchange_interval': 60}, 'use_custom_stoploss': False, 'timeframe': '1h', 'timeframe_ms': 3600000, 'timeframe_min': 60, 'exchange': 'binance', 'strategy': 'DummyStrategy', 'force_entry_enable': True, 'exit_pricing': {'price_side': 'same', 'use_order_book': True, 'order_book_top': 1}, 'entry_pricing': {'price_side': 'same', 'use_order_book': True, 'order_book_top': 1, 'price_last_balance': 0.0, 'check_depth_of_market': {'enabled': False, 'bids_to_ask_delta': 1}}, 'bot_name': 'freqtrade', 'state': 'stopped', 'runmode': 'dry_run', 'position_adjustment_enable': False, 'max_entry_position_adjustment': -1}\n"
     ]
    }
   ],
   "source": [
    "result=binance_bot.show_config()\n",
    "print(result)"
   ],
   "metadata": {
    "collapsed": false,
    "ExecuteTime": {
     "end_time": "2025-10-27T09:18:38.620951Z",
     "start_time": "2025-10-27T09:18:38.614063Z"
    }
   },
   "id": "5defb6a7160c8270",
   "execution_count": 10
  },
  {
   "cell_type": "code",
   "outputs": [
    {
     "name": "stdout",
     "output_type": "stream",
     "text": [
      "{'status': 'not_running'}\n"
     ]
    }
   ],
   "source": [
    "result=binance_bot.ping()\n",
    "print(result)"
   ],
   "metadata": {
    "collapsed": false,
    "ExecuteTime": {
     "end_time": "2025-10-27T09:19:04.813261Z",
     "start_time": "2025-10-27T09:19:04.804818Z"
    }
   },
   "id": "6d165a13c958afb6",
   "execution_count": 11
  },
  {
   "cell_type": "code",
   "outputs": [
    {
     "name": "stdout",
     "output_type": "stream",
     "text": [
      "{'log_count': 288, 'logs': [['2025-10-27 09:06:00', 1761555960557.0107, 'freqtrade', 'INFO', 'freqtrade 2025.7'], ['2025-10-27 09:06:00', 1761555960888.5684, 'numexpr.utils', 'INFO', 'Note: NumExpr detected 32 cores but \"NUMEXPR_MAX_THREADS\" not set, so enforcing safe limit of 16.'], ['2025-10-27 09:06:00', 1761555960888.9622, 'numexpr.utils', 'INFO', 'NumExpr defaulting to 16 threads.'], ['2025-10-27 09:06:01', 1761555961829.8018, 'freqtrade.worker', 'INFO', 'Starting worker 2025.7'], ['2025-10-27 09:06:01', 1761555961830.1562, 'freqtrade.configuration.load_config', 'INFO', 'Using config: /freqtrade/user_data/config.json ...'], ['2025-10-27 09:06:01', 1761555961831.8286, 'freqtrade.loggers', 'INFO', 'Enabling colorized output.'], ['2025-10-27 09:06:01', 1761555961832.115, 'freqtrade.loggers', 'INFO', 'Logfile configured'], ['2025-10-27 09:06:01', 1761555961832.3462, 'freqtrade.loggers', 'INFO', 'Verbosity set to 0'], ['2025-10-27 09:06:01', 1761555961832.6736, 'freqtrade.configuration.configuration', 'INFO', 'Runmode set to dry_run.'], ['2025-10-27 09:06:01', 1761555961832.878, 'freqtrade.configuration.configuration', 'INFO', 'Parameter --db-url detected ...'], ['2025-10-27 09:06:01', 1761555961833.0703, 'freqtrade.configuration.configuration', 'WARNING', '`force_entry_enable` RPC message enabled.'], ['2025-10-27 09:06:01', 1761555961833.2683, 'freqtrade.configuration.configuration', 'INFO', 'Dry run is enabled'], ['2025-10-27 09:06:01', 1761555961833.4846, 'freqtrade.configuration.configuration', 'INFO', 'Using DB: \"sqlite:////freqtrade/user_data/db/tradesv3.sqlite\"'], ['2025-10-27 09:06:01', 1761555961833.7034, 'freqtrade.configuration.configuration', 'INFO', 'Using max_open_trades: 1 ...'], ['2025-10-27 09:06:01', 1761555961844.1533, 'freqtrade.configuration.configuration', 'INFO', 'Using user-data directory: /freqtrade/user_data ...'], ['2025-10-27 09:06:01', 1761555961844.579, 'freqtrade.configuration.configuration', 'INFO', 'Using data directory: /freqtrade/user_data/data/binance ...'], ['2025-10-27 09:06:01', 1761555961845.2617, 'freqtrade.exchange.check_exchange', 'INFO', 'Checking exchange...'], ['2025-10-27 09:06:01', 1761555961853.4443, 'freqtrade.exchange.check_exchange', 'INFO', 'Exchange \"binance\" is officially supported by the Freqtrade development team.'], ['2025-10-27 09:06:01', 1761555961853.7993, 'freqtrade.configuration.configuration', 'INFO', 'Using pairlist from configuration.'], ['2025-10-27 09:06:01', 1761555961854.262, 'freqtrade.exchange.exchange', 'INFO', 'Instance is running with dry_run enabled'], ['2025-10-27 09:06:01', 1761555961854.5115, 'freqtrade.exchange.exchange', 'INFO', 'Using CCXT 4.4.96'], ['2025-10-27 09:06:01', 1761555961854.7358, 'freqtrade.exchange.exchange', 'INFO', \"Applying additional ccxt config: {'options': {'defaultType': 'swap'}, 'httpsProxy': 'http://127.0.0.1:7890', 'wsProxy': 'http://127.0.0.1:7890', 'enableRateLimit': True, 'rateLimit': 50}\"], ['2025-10-27 09:06:01', 1761555961861.573, 'freqtrade.exchange.exchange', 'INFO', \"Applying additional ccxt config: {'options': {'defaultType': 'swap'}, 'httpsProxy': 'http://127.0.0.1:7890', 'wsProxy': 'http://127.0.0.1:7890', 'enableRateLimit': True, 'rateLimit': 50}\"], ['2025-10-27 09:06:01', 1761555961869.6646, 'freqtrade.exchange.exchange', 'INFO', 'Using Exchange \"Binance\"'], ['2025-10-27 09:06:03', 1761555963752.828, 'freqtrade.resolvers.exchange_resolver', 'INFO', \"Using resolved exchange 'Binance'...\"], ['2025-10-27 09:06:03', 1761555963753.7373, 'freqtrade.resolvers.iresolver', 'INFO', \"Using resolved strategy DummyStrategy from '/freqtrade/user_data/strategies/DummyStrategy.py'...\"], ['2025-10-27 09:06:03', 1761555963754.0671, 'freqtrade.strategy.hyper', 'INFO', 'Found no parameter file.'], ['2025-10-27 09:06:03', 1761555963754.466, 'freqtrade.resolvers.strategy_resolver', 'INFO', \"Override strategy 'stake_currency' with value in config file: USDT.\"], ['2025-10-27 09:06:03', 1761555963754.7278, 'freqtrade.resolvers.strategy_resolver', 'INFO', \"Override strategy 'stake_amount' with value in config file: unlimited.\"], ['2025-10-27 09:06:03', 1761555963754.9507, 'freqtrade.resolvers.strategy_resolver', 'INFO', \"Override strategy 'unfilledtimeout' with value in config file: {'entry': 10, 'exit': 10, 'exit_timeout_count': 0, 'unit': 'minutes'}.\"], ['2025-10-27 09:06:03', 1761555963755.2095, 'freqtrade.resolvers.strategy_resolver', 'INFO', \"Override strategy 'disable_dataframe_checks' with value in config file: True.\"], ['2025-10-27 09:06:03', 1761555963755.417, 'freqtrade.resolvers.strategy_resolver', 'INFO', \"Override strategy 'max_open_trades' with value in config file: 1.\"], ['2025-10-27 09:06:03', 1761555963755.6147, 'freqtrade.resolvers.strategy_resolver', 'INFO', \"Strategy using minimal_roi: {'0': 1}\"], ['2025-10-27 09:06:03', 1761555963755.813, 'freqtrade.resolvers.strategy_resolver', 'INFO', 'Strategy using timeframe: 1h'], ['2025-10-27 09:06:03', 1761555963756.0, 'freqtrade.resolvers.strategy_resolver', 'INFO', 'Strategy using stoploss: -0.5'], ['2025-10-27 09:06:03', 1761555963756.1973, 'freqtrade.resolvers.strategy_resolver', 'INFO', 'Strategy using trailing_stop: False'], ['2025-10-27 09:06:03', 1761555963756.3853, 'freqtrade.resolvers.strategy_resolver', 'INFO', 'Strategy using trailing_stop_positive_offset: 0.0'], ['2025-10-27 09:06:03', 1761555963756.5706, 'freqtrade.resolvers.strategy_resolver', 'INFO', 'Strategy using trailing_only_offset_is_reached: False'], ['2025-10-27 09:06:03', 1761555963756.756, 'freqtrade.resolvers.strategy_resolver', 'INFO', 'Strategy using use_custom_stoploss: False'], ['2025-10-27 09:06:03', 1761555963756.946, 'freqtrade.resolvers.strategy_resolver', 'INFO', 'Strategy using process_only_new_candles: True'], ['2025-10-27 09:06:03', 1761555963757.1318, 'freqtrade.resolvers.strategy_resolver', 'INFO', \"Strategy using order_types: {'entry': 'limit', 'exit': 'limit', 'stoploss': 'limit', 'stoploss_on_exchange': False, 'stoploss_on_exchange_interval': 60}\"], ['2025-10-27 09:06:03', 1761555963757.3574, 'freqtrade.resolvers.strategy_resolver', 'INFO', \"Strategy using order_time_in_force: {'entry': 'GTC', 'exit': 'GTC'}\"], ['2025-10-27 09:06:03', 1761555963757.5532, 'freqtrade.resolvers.strategy_resolver', 'INFO', 'Strategy using stake_currency: USDT'], ['2025-10-27 09:06:03', 1761555963757.7441, 'freqtrade.resolvers.strategy_resolver', 'INFO', 'Strategy using stake_amount: unlimited'], ['2025-10-27 09:06:03', 1761555963757.9238, 'freqtrade.resolvers.strategy_resolver', 'INFO', 'Strategy using startup_candle_count: 0'], ['2025-10-27 09:06:03', 1761555963758.1047, 'freqtrade.resolvers.strategy_resolver', 'INFO', \"Strategy using unfilledtimeout: {'entry': 10, 'exit': 10, 'exit_timeout_count': 0, 'unit': 'minutes'}\"], ['2025-10-27 09:06:03', 1761555963758.298, 'freqtrade.resolvers.strategy_resolver', 'INFO', 'Strategy using use_exit_signal: False'], ['2025-10-27 09:06:03', 1761555963758.4758, 'freqtrade.resolvers.strategy_resolver', 'INFO', 'Strategy using exit_profit_only: False'], ['2025-10-27 09:06:03', 1761555963758.654, 'freqtrade.resolvers.strategy_resolver', 'INFO', 'Strategy using ignore_roi_if_entry_signal: False'], ['2025-10-27 09:06:03', 1761555963758.8328, 'freqtrade.resolvers.strategy_resolver', 'INFO', 'Strategy using exit_profit_offset: 0.0'], ['2025-10-27 09:06:03', 1761555963759.013, 'freqtrade.resolvers.strategy_resolver', 'INFO', 'Strategy using disable_dataframe_checks: True'], ['2025-10-27 09:06:03', 1761555963759.1946, 'freqtrade.resolvers.strategy_resolver', 'INFO', 'Strategy using ignore_buying_expired_candle_after: 0'], ['2025-10-27 09:06:03', 1761555963759.378, 'freqtrade.resolvers.strategy_resolver', 'INFO', 'Strategy using position_adjustment_enable: False'], ['2025-10-27 09:06:03', 1761555963759.5586, 'freqtrade.resolvers.strategy_resolver', 'INFO', 'Strategy using max_entry_position_adjustment: -1'], ['2025-10-27 09:06:03', 1761555963759.739, 'freqtrade.resolvers.strategy_resolver', 'INFO', 'Strategy using max_open_trades: 1'], ['2025-10-27 09:06:03', 1761555963759.9648, 'freqtrade.configuration.config_validation', 'INFO', 'Validating configuration ...'], ['2025-10-27 09:06:04', 1761555964187.4731, 'freqtrade.wallets', 'INFO', 'Wallets synced.'], ['2025-10-27 09:06:04', 1761555964187.8328, 'freqtrade.rpc.rpc_manager', 'INFO', 'Enabling rpc.api_server'], ['2025-10-27 09:06:04', 1761555964301.9824, 'freqtrade.rpc.api_server.webserver', 'INFO', 'Starting HTTP Server at 0.0.0.0:8080'], ['2025-10-27 09:06:04', 1761555964302.3438, 'freqtrade.rpc.api_server.webserver', 'INFO', 'Starting Local Rest Server.'], ['2025-10-27 09:06:04', 1761555964312.4812, 'uvicorn.error', 'INFO', 'Started server process [1]'], ['2025-10-27 09:06:04', 1761555964312.79, 'uvicorn.error', 'INFO', 'Waiting for application startup.'], ['2025-10-27 09:06:04', 1761555964313.1494, 'uvicorn.error', 'INFO', 'Application startup complete.'], ['2025-10-27 09:06:04', 1761555964313.4958, 'uvicorn.error', 'INFO', 'Uvicorn running on http://0.0.0.0:8080 (Press CTRL+C to quit)'], ['2025-10-27 09:06:04', 1761555964323.7036, 'freqtrade.resolvers.iresolver', 'INFO', \"Using resolved pairlist StaticPairList from '/freqtrade/freqtrade/plugins/pairlist/StaticPairList.py'...\"], ['2025-10-27 09:06:04', 1761555964324.0344, 'freqtrade.freqtradebot', 'INFO', 'Starting initial pairlist refresh'], ['2025-10-27 09:06:04', 1761555964330.1047, 'freqtrade.plugins.pairlistmanager', 'INFO', 'Whitelist with 0 pairs: []'], ['2025-10-27 09:06:04', 1761555964330.4539, 'freqtrade.freqtradebot', 'INFO', 'Initial Pairlist refresh took 0.01s'], ['2025-10-27 09:06:04', 1761555964331.139, 'freqtrade.strategy.hyper', 'INFO', 'No params for buy found, using default values.'], ['2025-10-27 09:06:04', 1761555964331.6008, 'freqtrade.strategy.hyper', 'INFO', 'No params for sell found, using default values.'], ['2025-10-27 09:06:04', 1761555964331.9453, 'freqtrade.strategy.hyper', 'INFO', 'No params for protection found, using default values.'], ['2025-10-27 09:06:04', 1761555964332.2734, 'freqtrade.plugins.protectionmanager', 'INFO', 'No protection Handlers defined.'], ['2025-10-27 09:06:04', 1761555964332.539, 'freqtrade.rpc.rpc_manager', 'INFO', \"Sending rpc message: {'type': status, 'status': 'stopped'}\"], ['2025-10-27 09:06:04', 1761555964332.811, 'freqtrade.worker', 'INFO', 'Changing state to: STOPPED'], ['2025-10-27 09:06:09', 1761555969333.899, 'freqtrade.worker', 'INFO', \"Bot heartbeat. PID=1, version='2025.7', state='STOPPED'\"], ['2025-10-27 09:06:34', 1761555994335.6147, 'freqtrade.rpc.rpc_manager', 'INFO', \"Sending rpc message: {'type': status, 'status': 'running'}\"], ['2025-10-27 09:06:34', 1761555994336.7087, 'freqtrade.worker', 'INFO', 'Changing state from STOPPED to: RUNNING'], ['2025-10-27 09:06:34', 1761555994341.4788, 'freqtrade.util.migrations.binance_mig', 'INFO', 'Migrating binance futures pairs in database.'], ['2025-10-27 09:06:34', 1761555994345.21, 'freqtrade.util.migrations.binance_mig', 'INFO', 'Done migrating binance futures pairs in database.'], ['2025-10-27 09:06:34', 1761555994391.5786, 'freqtrade.rpc.rpc_manager', 'INFO', \"Sending rpc message: {'type': warning, 'status': 'Dry run is enabled. All trades are simulated.'}\"], ['2025-10-27 09:06:34', 1761555994392.4927, 'freqtrade.rpc.rpc_manager', 'INFO', 'Sending rpc message: {\\'type\\': startup, \\'status\\': \"*Exchange:* `binance`\\\\n*Stake per trade:* `unlimited USDT`\\\\n*Minimum ROI:* `{\\'0\\': 1}`\\\\n*Stoploss:* `-0.5`\\\\n*Position adjustment:* `Off`\\\\n*Timeframe:* `1h`\\\\n*Strategy:* `DummyStrategy`\"}'], ['2025-10-27 09:06:34', 1761555994393.3384, 'freqtrade.rpc.rpc_manager', 'INFO', 'Sending rpc message: {\\'type\\': startup, \\'status\\': \"Searching for USDT pairs to buy and sell based on [{\\'StaticPairList\\': \\'StaticPairList\\'}]\"}'], ['2025-10-27 09:06:34', 1761555994409.012, 'freqtrade.freqtradebot', 'INFO', 'Active pair whitelist is empty.'], ['2025-10-27 09:06:39', 1761555999398.3796, 'freqtrade.worker', 'INFO', \"Bot heartbeat. PID=1, version='2025.7', state='RUNNING'\"], ['2025-10-27 09:07:14', 1761556034400.5417, 'freqtrade.rpc.rpc_manager', 'INFO', \"Sending rpc message: {'type': status, 'status': 'stopped'}\"], ['2025-10-27 09:07:14', 1761556034401.647, 'freqtrade.worker', 'INFO', 'Changing state from RUNNING to: STOPPED'], ['2025-10-27 09:07:19', 1761556039411.645, 'freqtrade.worker', 'INFO', \"Bot heartbeat. PID=1, version='2025.7', state='STOPPED'\"], ['2025-10-27 09:08:19', 1761556099414.2305, 'freqtrade.worker', 'INFO', \"Bot heartbeat. PID=1, version='2025.7', state='STOPPED'\"], ['2025-10-27 09:08:49', 1761556129415.9836, 'freqtrade.rpc.rpc_manager', 'INFO', \"Sending rpc message: {'type': status, 'status': 'paused'}\"], ['2025-10-27 09:08:49', 1761556129417.056, 'freqtrade.worker', 'INFO', 'Changing state from STOPPED to: PAUSED'], ['2025-10-27 09:08:49', 1761556129437.9036, 'freqtrade.rpc.rpc_manager', 'INFO', \"Sending rpc message: {'type': warning, 'status': 'Dry run is enabled. All trades are simulated.'}\"], ['2025-10-27 09:08:49', 1761556129438.8555, 'freqtrade.rpc.rpc_manager', 'INFO', 'Sending rpc message: {\\'type\\': startup, \\'status\\': \"*Exchange:* `binance`\\\\n*Stake per trade:* `unlimited USDT`\\\\n*Minimum ROI:* `{\\'0\\': 1}`\\\\n*Stoploss:* `-0.5`\\\\n*Position adjustment:* `Off`\\\\n*Timeframe:* `1h`\\\\n*Strategy:* `DummyStrategy`\"}'], ['2025-10-27 09:08:49', 1761556129439.6606, 'freqtrade.rpc.rpc_manager', 'INFO', 'Sending rpc message: {\\'type\\': startup, \\'status\\': \"Searching for USDT pairs to buy and sell based on [{\\'StaticPairList\\': \\'StaticPairList\\'}]\"}'], ['2025-10-27 09:08:54', 1761556134442.5544, 'freqtrade.worker', 'INFO', \"Bot heartbeat. PID=1, version='2025.7', state='PAUSED'\"], ['2025-10-27 09:09:34', 1761556174444.8484, 'freqtrade.rpc.rpc_manager', 'INFO', \"Sending rpc message: {'type': status, 'status': 'reload_config'}\"], ['2025-10-27 09:09:34', 1761556174445.313, 'freqtrade.worker', 'INFO', 'Changing state from PAUSED to: RELOAD_CONFIG'], ['2025-10-27 09:09:34', 1761556174445.5647, 'freqtrade.worker', 'INFO', \"Bot heartbeat. PID=1, version='2025.7', state='RELOAD_CONFIG'\"], ['2025-10-27 09:09:34', 1761556174445.8337, 'freqtrade.freqtradebot', 'INFO', 'Cleaning up modules ...'], ['2025-10-27 09:09:34', 1761556174446.5168, 'freqtrade.rpc.rpc_manager', 'INFO', 'Cleaning up rpc modules ...'], ['2025-10-27 09:09:34', 1761556174446.765, 'freqtrade.rpc.rpc_manager', 'INFO', 'Cleaning up rpc.apiserver ...'], ['2025-10-27 09:09:34', 1761556174446.9773, 'freqtrade.rpc.api_server.webserver', 'INFO', 'Stopping API Server'], ['2025-10-27 09:09:34', 1761556174518.463, 'uvicorn.error', 'INFO', 'Shutting down'], ['2025-10-27 09:09:34', 1761556174619.3606, 'uvicorn.error', 'INFO', 'Waiting for application shutdown.'], ['2025-10-27 09:09:34', 1761556174620.512, 'uvicorn.error', 'INFO', 'Application shutdown complete.'], ['2025-10-27 09:09:34', 1761556174621.1804, 'uvicorn.error', 'INFO', 'Finished server process [1]'], ['2025-10-27 09:09:34', 1761556174874.8293, 'freqtrade.configuration.load_config', 'INFO', 'Using config: /freqtrade/user_data/config.json ...'], ['2025-10-27 09:09:34', 1761556174880.5718, 'freqtrade.loggers', 'INFO', 'Enabling colorized output.'], ['2025-10-27 09:09:34', 1761556174881.3655, 'freqtrade.loggers', 'INFO', 'Logfile configured'], ['2025-10-27 09:09:34', 1761556174882.0903, 'freqtrade.loggers', 'INFO', 'Verbosity set to 0'], ['2025-10-27 09:09:34', 1761556174882.7324, 'freqtrade.configuration.configuration', 'INFO', 'Runmode set to dry_run.'], ['2025-10-27 09:09:34', 1761556174883.355, 'freqtrade.configuration.configuration', 'INFO', 'Parameter --db-url detected ...'], ['2025-10-27 09:09:34', 1761556174883.9207, 'freqtrade.configuration.configuration', 'WARNING', '`force_entry_enable` RPC message enabled.'], ['2025-10-27 09:09:34', 1761556174884.511, 'freqtrade.configuration.configuration', 'INFO', 'Dry run is enabled'], ['2025-10-27 09:09:34', 1761556174885.1118, 'freqtrade.configuration.configuration', 'INFO', 'Using DB: \"sqlite:////freqtrade/user_data/db/tradesv3.sqlite\"'], ['2025-10-27 09:09:34', 1761556174885.5762, 'freqtrade.configuration.configuration', 'INFO', 'Using max_open_trades: 1 ...'], ['2025-10-27 09:09:34', 1761556174899.8743, 'freqtrade.configuration.configuration', 'INFO', 'Using user-data directory: /freqtrade/user_data ...'], ['2025-10-27 09:09:34', 1761556174900.8108, 'freqtrade.configuration.configuration', 'INFO', 'Using data directory: /freqtrade/user_data/data/binance ...'], ['2025-10-27 09:09:34', 1761556174901.3872, 'freqtrade.exchange.check_exchange', 'INFO', 'Checking exchange...'], ['2025-10-27 09:09:34', 1761556174913.5193, 'freqtrade.exchange.check_exchange', 'INFO', 'Exchange \"binance\" is officially supported by the Freqtrade development team.'], ['2025-10-27 09:09:34', 1761556174913.8528, 'freqtrade.configuration.configuration', 'INFO', 'Using pairlist from configuration.'], ['2025-10-27 09:09:34', 1761556174914.2686, 'freqtrade.exchange.exchange', 'INFO', 'Instance is running with dry_run enabled'], ['2025-10-27 09:09:34', 1761556174914.529, 'freqtrade.exchange.exchange', 'INFO', 'Using CCXT 4.4.96'], ['2025-10-27 09:09:34', 1761556174914.7522, 'freqtrade.exchange.exchange', 'INFO', \"Applying additional ccxt config: {'options': {'defaultType': 'swap'}, 'httpsProxy': 'http://127.0.0.1:7890', 'wsProxy': 'http://127.0.0.1:7890', 'enableRateLimit': True, 'rateLimit': 50}\"], ['2025-10-27 09:09:34', 1761556174921.512, 'freqtrade.exchange.exchange', 'INFO', \"Applying additional ccxt config: {'options': {'defaultType': 'swap'}, 'httpsProxy': 'http://127.0.0.1:7890', 'wsProxy': 'http://127.0.0.1:7890', 'enableRateLimit': True, 'rateLimit': 50}\"], ['2025-10-27 09:09:34', 1761556174929.4055, 'freqtrade.exchange.exchange', 'INFO', 'Using Exchange \"Binance\"'], ['2025-10-27 09:09:37', 1761556177394.2268, 'freqtrade.resolvers.exchange_resolver', 'INFO', \"Using resolved exchange 'Binance'...\"], ['2025-10-27 09:09:37', 1761556177395.1133, 'freqtrade.resolvers.iresolver', 'INFO', \"Using resolved strategy DummyStrategy from '/freqtrade/user_data/strategies/DummyStrategy.py'...\"], ['2025-10-27 09:09:37', 1761556177395.4065, 'freqtrade.strategy.hyper', 'INFO', 'Found no parameter file.'], ['2025-10-27 09:09:37', 1761556177395.7822, 'freqtrade.resolvers.strategy_resolver', 'INFO', \"Override strategy 'stake_currency' with value in config file: USDT.\"], ['2025-10-27 09:09:37', 1761556177396.0308, 'freqtrade.resolvers.strategy_resolver', 'INFO', \"Override strategy 'stake_amount' with value in config file: unlimited.\"], ['2025-10-27 09:09:37', 1761556177396.2583, 'freqtrade.resolvers.strategy_resolver', 'INFO', \"Override strategy 'unfilledtimeout' with value in config file: {'entry': 10, 'exit': 10, 'exit_timeout_count': 0, 'unit': 'minutes'}.\"], ['2025-10-27 09:09:37', 1761556177396.5066, 'freqtrade.resolvers.strategy_resolver', 'INFO', \"Override strategy 'disable_dataframe_checks' with value in config file: True.\"], ['2025-10-27 09:09:37', 1761556177396.7231, 'freqtrade.resolvers.strategy_resolver', 'INFO', \"Override strategy 'max_open_trades' with value in config file: 1.\"], ['2025-10-27 09:09:37', 1761556177396.923, 'freqtrade.resolvers.strategy_resolver', 'INFO', \"Strategy using minimal_roi: {'0': 1}\"], ['2025-10-27 09:09:37', 1761556177397.1194, 'freqtrade.resolvers.strategy_resolver', 'INFO', 'Strategy using timeframe: 1h'], ['2025-10-27 09:09:37', 1761556177397.3174, 'freqtrade.resolvers.strategy_resolver', 'INFO', 'Strategy using stoploss: -0.5'], ['2025-10-27 09:09:37', 1761556177397.508, 'freqtrade.resolvers.strategy_resolver', 'INFO', 'Strategy using trailing_stop: False'], ['2025-10-27 09:09:37', 1761556177397.7, 'freqtrade.resolvers.strategy_resolver', 'INFO', 'Strategy using trailing_stop_positive_offset: 0.0'], ['2025-10-27 09:09:37', 1761556177397.8865, 'freqtrade.resolvers.strategy_resolver', 'INFO', 'Strategy using trailing_only_offset_is_reached: False'], ['2025-10-27 09:09:37', 1761556177398.0715, 'freqtrade.resolvers.strategy_resolver', 'INFO', 'Strategy using use_custom_stoploss: False'], ['2025-10-27 09:09:37', 1761556177398.2544, 'freqtrade.resolvers.strategy_resolver', 'INFO', 'Strategy using process_only_new_candles: True'], ['2025-10-27 09:09:37', 1761556177398.4348, 'freqtrade.resolvers.strategy_resolver', 'INFO', \"Strategy using order_types: {'entry': 'limit', 'exit': 'limit', 'stoploss': 'limit', 'stoploss_on_exchange': False, 'stoploss_on_exchange_interval': 60, 'emergency_exit': 'market'}\"], ['2025-10-27 09:09:37', 1761556177398.6663, 'freqtrade.resolvers.strategy_resolver', 'INFO', \"Strategy using order_time_in_force: {'entry': 'GTC', 'exit': 'GTC'}\"], ['2025-10-27 09:09:37', 1761556177398.8694, 'freqtrade.resolvers.strategy_resolver', 'INFO', 'Strategy using stake_currency: USDT'], ['2025-10-27 09:09:37', 1761556177399.0596, 'freqtrade.resolvers.strategy_resolver', 'INFO', 'Strategy using stake_amount: unlimited'], ['2025-10-27 09:09:37', 1761556177399.2407, 'freqtrade.resolvers.strategy_resolver', 'INFO', 'Strategy using startup_candle_count: 0'], ['2025-10-27 09:09:37', 1761556177399.4204, 'freqtrade.resolvers.strategy_resolver', 'INFO', \"Strategy using unfilledtimeout: {'entry': 10, 'exit': 10, 'exit_timeout_count': 0, 'unit': 'minutes'}\"], ['2025-10-27 09:09:37', 1761556177399.6086, 'freqtrade.resolvers.strategy_resolver', 'INFO', 'Strategy using use_exit_signal: False'], ['2025-10-27 09:09:37', 1761556177399.7847, 'freqtrade.resolvers.strategy_resolver', 'INFO', 'Strategy using exit_profit_only: False'], ['2025-10-27 09:09:37', 1761556177399.9678, 'freqtrade.resolvers.strategy_resolver', 'INFO', 'Strategy using ignore_roi_if_entry_signal: False'], ['2025-10-27 09:09:37', 1761556177400.1497, 'freqtrade.resolvers.strategy_resolver', 'INFO', 'Strategy using exit_profit_offset: 0.0'], ['2025-10-27 09:09:37', 1761556177400.3323, 'freqtrade.resolvers.strategy_resolver', 'INFO', 'Strategy using disable_dataframe_checks: True'], ['2025-10-27 09:09:37', 1761556177400.513, 'freqtrade.resolvers.strategy_resolver', 'INFO', 'Strategy using ignore_buying_expired_candle_after: 0'], ['2025-10-27 09:09:37', 1761556177400.694, 'freqtrade.resolvers.strategy_resolver', 'INFO', 'Strategy using position_adjustment_enable: False'], ['2025-10-27 09:09:37', 1761556177400.873, 'freqtrade.resolvers.strategy_resolver', 'INFO', 'Strategy using max_entry_position_adjustment: -1'], ['2025-10-27 09:09:37', 1761556177401.0505, 'freqtrade.resolvers.strategy_resolver', 'INFO', 'Strategy using max_open_trades: 1'], ['2025-10-27 09:09:37', 1761556177401.2725, 'freqtrade.configuration.config_validation', 'INFO', 'Validating configuration ...'], ['2025-10-27 09:09:37', 1761556177409.3699, 'freqtrade.wallets', 'INFO', 'Wallets synced.'], ['2025-10-27 09:09:37', 1761556177409.6875, 'freqtrade.rpc.rpc_manager', 'INFO', 'Enabling rpc.api_server'], ['2025-10-27 09:09:37', 1761556177443.1904, 'freqtrade.rpc.api_server.webserver', 'INFO', 'Starting HTTP Server at 0.0.0.0:8080'], ['2025-10-27 09:09:37', 1761556177443.4934, 'freqtrade.rpc.api_server.webserver', 'INFO', 'Starting Local Rest Server.'], ['2025-10-27 09:09:37', 1761556177444.195, 'uvicorn.error', 'INFO', 'Started server process [1]'], ['2025-10-27 09:09:37', 1761556177444.491, 'uvicorn.error', 'INFO', 'Waiting for application startup.'], ['2025-10-27 09:09:37', 1761556177444.8152, 'uvicorn.error', 'INFO', 'Application startup complete.'], ['2025-10-27 09:09:37', 1761556177445.1438, 'uvicorn.error', 'INFO', 'Uvicorn running on http://0.0.0.0:8080 (Press CTRL+C to quit)'], ['2025-10-27 09:09:37', 1761556177453.9585, 'freqtrade.resolvers.iresolver', 'INFO', \"Using resolved pairlist StaticPairList from '/freqtrade/freqtrade/plugins/pairlist/StaticPairList.py'...\"], ['2025-10-27 09:09:37', 1761556177454.2668, 'freqtrade.freqtradebot', 'INFO', 'Starting initial pairlist refresh'], ['2025-10-27 09:09:37', 1761556177459.825, 'freqtrade.plugins.pairlistmanager', 'INFO', 'Whitelist with 0 pairs: []'], ['2025-10-27 09:09:37', 1761556177460.0996, 'freqtrade.freqtradebot', 'INFO', 'Initial Pairlist refresh took 0.01s'], ['2025-10-27 09:09:37', 1761556177460.6384, 'freqtrade.strategy.hyper', 'INFO', 'No params for buy found, using default values.'], ['2025-10-27 09:09:37', 1761556177460.9583, 'freqtrade.strategy.hyper', 'INFO', 'No params for sell found, using default values.'], ['2025-10-27 09:09:37', 1761556177461.2302, 'freqtrade.strategy.hyper', 'INFO', 'No params for protection found, using default values.'], ['2025-10-27 09:09:37', 1761556177461.4941, 'freqtrade.plugins.protectionmanager', 'INFO', 'No protection Handlers defined.'], ['2025-10-27 09:09:37', 1761556177461.714, 'freqtrade.rpc.rpc_manager', 'INFO', \"Sending rpc message: {'type': status, 'status': 'stopped after config reloaded'}\"], ['2025-10-27 09:09:37', 1761556177461.9363, 'freqtrade.worker', 'INFO', 'Changing state from RELOAD_CONFIG to: STOPPED'], ['2025-10-27 09:09:42', 1761556182462.602, 'freqtrade.worker', 'INFO', \"Bot heartbeat. PID=1, version='2025.7', state='STOPPED'\"], ['2025-10-27 09:10:07', 1761556207464.6265, 'freqtrade.rpc.rpc_manager', 'INFO', \"Sending rpc message: {'type': status, 'status': 'running'}\"], ['2025-10-27 09:10:07', 1761556207465.701, 'freqtrade.worker', 'INFO', 'Changing state from STOPPED to: RUNNING'], ['2025-10-27 09:10:07', 1761556207488.2576, 'freqtrade.rpc.rpc_manager', 'INFO', \"Sending rpc message: {'type': warning, 'status': 'Dry run is enabled. All trades are simulated.'}\"], ['2025-10-27 09:10:07', 1761556207489.213, 'freqtrade.rpc.rpc_manager', 'INFO', 'Sending rpc message: {\\'type\\': startup, \\'status\\': \"*Exchange:* `binance`\\\\n*Stake per trade:* `unlimited USDT`\\\\n*Minimum ROI:* `{\\'0\\': 1}`\\\\n*Stoploss:* `-0.5`\\\\n*Position adjustment:* `Off`\\\\n*Timeframe:* `1h`\\\\n*Strategy:* `DummyStrategy`\"}'], ['2025-10-27 09:10:07', 1761556207490.0266, 'freqtrade.rpc.rpc_manager', 'INFO', 'Sending rpc message: {\\'type\\': startup, \\'status\\': \"Searching for USDT pairs to buy and sell based on [{\\'StaticPairList\\': \\'StaticPairList\\'}]\"}'], ['2025-10-27 09:10:07', 1761556207505.3125, 'freqtrade.freqtradebot', 'INFO', 'Active pair whitelist is empty.'], ['2025-10-27 09:10:12', 1761556212494.79, 'freqtrade.worker', 'INFO', \"Bot heartbeat. PID=1, version='2025.7', state='RUNNING'\"], ['2025-10-27 09:11:12', 1761556272497.9187, 'freqtrade.worker', 'INFO', \"Bot heartbeat. PID=1, version='2025.7', state='RUNNING'\"], ['2025-10-27 09:12:07', 1761556327501.158, 'freqtrade.rpc.rpc_manager', 'INFO', \"Sending rpc message: {'type': status, 'status': 'stopped'}\"], ['2025-10-27 09:12:07', 1761556327502.2734, 'freqtrade.worker', 'INFO', 'Changing state from RUNNING to: STOPPED'], ['2025-10-27 09:12:12', 1761556332504.0647, 'freqtrade.worker', 'INFO', \"Bot heartbeat. PID=1, version='2025.7', state='STOPPED'\"], ['2025-10-27 09:13:12', 1761556392507.1453, 'freqtrade.worker', 'INFO', \"Bot heartbeat. PID=1, version='2025.7', state='STOPPED'\"], ['2025-10-27 09:14:12', 1761556452509.9758, 'freqtrade.worker', 'INFO', \"Bot heartbeat. PID=1, version='2025.7', state='STOPPED'\"], ['2025-10-27 09:14:32', 1761556472511.6519, 'freqtrade.rpc.rpc_manager', 'INFO', \"Sending rpc message: {'type': status, 'status': 'running'}\"], ['2025-10-27 09:14:32', 1761556472512.7002, 'freqtrade.worker', 'INFO', 'Changing state from STOPPED to: RUNNING'], ['2025-10-27 09:14:32', 1761556472532.0276, 'freqtrade.rpc.rpc_manager', 'INFO', \"Sending rpc message: {'type': warning, 'status': 'Dry run is enabled. All trades are simulated.'}\"], ['2025-10-27 09:14:32', 1761556472533.0989, 'freqtrade.rpc.rpc_manager', 'INFO', 'Sending rpc message: {\\'type\\': startup, \\'status\\': \"*Exchange:* `binance`\\\\n*Stake per trade:* `unlimited USDT`\\\\n*Minimum ROI:* `{\\'0\\': 1}`\\\\n*Stoploss:* `-0.5`\\\\n*Position adjustment:* `Off`\\\\n*Timeframe:* `1h`\\\\n*Strategy:* `DummyStrategy`\"}'], ['2025-10-27 09:14:32', 1761556472533.9219, 'freqtrade.rpc.rpc_manager', 'INFO', 'Sending rpc message: {\\'type\\': startup, \\'status\\': \"Searching for USDT pairs to buy and sell based on [{\\'StaticPairList\\': \\'StaticPairList\\'}]\"}'], ['2025-10-27 09:14:37', 1761556477536.8262, 'freqtrade.worker', 'INFO', \"Bot heartbeat. PID=1, version='2025.7', state='RUNNING'\"], ['2025-10-27 09:15:32', 1761556532539.7395, 'freqtrade.rpc.rpc_manager', 'INFO', \"Sending rpc message: {'type': status, 'status': 'stopped'}\"], ['2025-10-27 09:15:32', 1761556532540.8486, 'freqtrade.worker', 'INFO', 'Changing state from RUNNING to: STOPPED'], ['2025-10-27 09:15:37', 1761556537542.587, 'freqtrade.worker', 'INFO', \"Bot heartbeat. PID=1, version='2025.7', state='STOPPED'\"], ['2025-10-27 09:15:52', 1761556552544.0776, 'freqtrade.rpc.rpc_manager', 'INFO', \"Sending rpc message: {'type': status, 'status': 'paused'}\"], ['2025-10-27 09:15:52', 1761556552545.2188, 'freqtrade.worker', 'INFO', 'Changing state from STOPPED to: PAUSED'], ['2025-10-27 09:15:52', 1761556552565.383, 'freqtrade.rpc.rpc_manager', 'INFO', \"Sending rpc message: {'type': warning, 'status': 'Dry run is enabled. All trades are simulated.'}\"], ['2025-10-27 09:15:52', 1761556552566.3142, 'freqtrade.rpc.rpc_manager', 'INFO', 'Sending rpc message: {\\'type\\': startup, \\'status\\': \"*Exchange:* `binance`\\\\n*Stake per trade:* `unlimited USDT`\\\\n*Minimum ROI:* `{\\'0\\': 1}`\\\\n*Stoploss:* `-0.5`\\\\n*Position adjustment:* `Off`\\\\n*Timeframe:* `1h`\\\\n*Strategy:* `DummyStrategy`\"}'], ['2025-10-27 09:15:52', 1761556552567.1084, 'freqtrade.rpc.rpc_manager', 'INFO', 'Sending rpc message: {\\'type\\': startup, \\'status\\': \"Searching for USDT pairs to buy and sell based on [{\\'StaticPairList\\': \\'StaticPairList\\'}]\"}'], ['2025-10-27 09:15:57', 1761556557569.868, 'freqtrade.worker', 'INFO', \"Bot heartbeat. PID=1, version='2025.7', state='PAUSED'\"], ['2025-10-27 09:16:22', 1761556582571.8027, 'freqtrade.rpc.rpc_manager', 'INFO', \"Sending rpc message: {'type': status, 'status': 'reload_config'}\"], ['2025-10-27 09:16:22', 1761556582573.3105, 'freqtrade.worker', 'INFO', 'Changing state from PAUSED to: RELOAD_CONFIG'], ['2025-10-27 09:16:22', 1761556582574.3342, 'freqtrade.worker', 'INFO', \"Bot heartbeat. PID=1, version='2025.7', state='RELOAD_CONFIG'\"], ['2025-10-27 09:16:22', 1761556582574.9163, 'freqtrade.freqtradebot', 'INFO', 'Cleaning up modules ...'], ['2025-10-27 09:16:22', 1761556582575.813, 'freqtrade.rpc.rpc_manager', 'INFO', 'Cleaning up rpc modules ...'], ['2025-10-27 09:16:22', 1761556582576.2188, 'freqtrade.rpc.rpc_manager', 'INFO', 'Cleaning up rpc.apiserver ...'], ['2025-10-27 09:16:22', 1761556582576.5242, 'freqtrade.rpc.api_server.webserver', 'INFO', 'Stopping API Server'], ['2025-10-27 09:16:22', 1761556582644.2568, 'uvicorn.error', 'INFO', 'Shutting down'], ['2025-10-27 09:16:22', 1761556582745.2212, 'uvicorn.error', 'INFO', 'Waiting for application shutdown.'], ['2025-10-27 09:16:22', 1761556582745.9343, 'uvicorn.error', 'INFO', 'Application shutdown complete.'], ['2025-10-27 09:16:22', 1761556582746.3123, 'uvicorn.error', 'INFO', 'Finished server process [1]'], ['2025-10-27 09:16:22', 1761556582998.1848, 'freqtrade.configuration.load_config', 'INFO', 'Using config: /freqtrade/user_data/config.json ...'], ['2025-10-27 09:16:23', 1761556583003.8953, 'freqtrade.loggers', 'INFO', 'Enabling colorized output.'], ['2025-10-27 09:16:23', 1761556583004.669, 'freqtrade.loggers', 'INFO', 'Logfile configured'], ['2025-10-27 09:16:23', 1761556583005.311, 'freqtrade.loggers', 'INFO', 'Verbosity set to 0'], ['2025-10-27 09:16:23', 1761556583005.9282, 'freqtrade.configuration.configuration', 'INFO', 'Runmode set to dry_run.'], ['2025-10-27 09:16:23', 1761556583006.4927, 'freqtrade.configuration.configuration', 'INFO', 'Parameter --db-url detected ...'], ['2025-10-27 09:16:23', 1761556583007.0208, 'freqtrade.configuration.configuration', 'WARNING', '`force_entry_enable` RPC message enabled.'], ['2025-10-27 09:16:23', 1761556583007.2393, 'freqtrade.configuration.configuration', 'INFO', 'Dry run is enabled'], ['2025-10-27 09:16:23', 1761556583007.4524, 'freqtrade.configuration.configuration', 'INFO', 'Using DB: \"sqlite:////freqtrade/user_data/db/tradesv3.sqlite\"'], ['2025-10-27 09:16:23', 1761556583007.6553, 'freqtrade.configuration.configuration', 'INFO', 'Using max_open_trades: 1 ...'], ['2025-10-27 09:16:23', 1761556583023.9434, 'freqtrade.configuration.configuration', 'INFO', 'Using user-data directory: /freqtrade/user_data ...'], ['2025-10-27 09:16:23', 1761556583024.705, 'freqtrade.configuration.configuration', 'INFO', 'Using data directory: /freqtrade/user_data/data/binance ...'], ['2025-10-27 09:16:23', 1761556583025.3726, 'freqtrade.exchange.check_exchange', 'INFO', 'Checking exchange...'], ['2025-10-27 09:16:23', 1761556583042.1191, 'freqtrade.exchange.check_exchange', 'INFO', 'Exchange \"binance\" is officially supported by the Freqtrade development team.'], ['2025-10-27 09:16:23', 1761556583042.495, 'freqtrade.configuration.configuration', 'INFO', 'Using pairlist from configuration.'], ['2025-10-27 09:16:23', 1761556583042.9126, 'freqtrade.exchange.exchange', 'INFO', 'Instance is running with dry_run enabled'], ['2025-10-27 09:16:23', 1761556583043.1475, 'freqtrade.exchange.exchange', 'INFO', 'Using CCXT 4.4.96'], ['2025-10-27 09:16:23', 1761556583043.3633, 'freqtrade.exchange.exchange', 'INFO', \"Applying additional ccxt config: {'options': {'defaultType': 'swap'}, 'httpsProxy': 'http://127.0.0.1:7890', 'wsProxy': 'http://127.0.0.1:7890', 'enableRateLimit': True, 'rateLimit': 50}\"], ['2025-10-27 09:16:23', 1761556583050.1726, 'freqtrade.exchange.exchange', 'INFO', \"Applying additional ccxt config: {'options': {'defaultType': 'swap'}, 'httpsProxy': 'http://127.0.0.1:7890', 'wsProxy': 'http://127.0.0.1:7890', 'enableRateLimit': True, 'rateLimit': 50}\"], ['2025-10-27 09:16:23', 1761556583058.0723, 'freqtrade.exchange.exchange', 'INFO', 'Using Exchange \"Binance\"'], ['2025-10-27 09:16:24', 1761556584870.029, 'freqtrade.resolvers.exchange_resolver', 'INFO', \"Using resolved exchange 'Binance'...\"], ['2025-10-27 09:16:24', 1761556584870.906, 'freqtrade.resolvers.iresolver', 'INFO', \"Using resolved strategy DummyStrategy from '/freqtrade/user_data/strategies/DummyStrategy.py'...\"], ['2025-10-27 09:16:24', 1761556584871.2063, 'freqtrade.strategy.hyper', 'INFO', 'Found no parameter file.'], ['2025-10-27 09:16:24', 1761556584871.586, 'freqtrade.resolvers.strategy_resolver', 'INFO', \"Override strategy 'stake_currency' with value in config file: USDT.\"], ['2025-10-27 09:16:24', 1761556584871.8228, 'freqtrade.resolvers.strategy_resolver', 'INFO', \"Override strategy 'stake_amount' with value in config file: unlimited.\"], ['2025-10-27 09:16:24', 1761556584872.0408, 'freqtrade.resolvers.strategy_resolver', 'INFO', \"Override strategy 'unfilledtimeout' with value in config file: {'entry': 10, 'exit': 10, 'exit_timeout_count': 0, 'unit': 'minutes'}.\"], ['2025-10-27 09:16:24', 1761556584872.2957, 'freqtrade.resolvers.strategy_resolver', 'INFO', \"Override strategy 'disable_dataframe_checks' with value in config file: True.\"], ['2025-10-27 09:16:24', 1761556584872.5063, 'freqtrade.resolvers.strategy_resolver', 'INFO', \"Override strategy 'max_open_trades' with value in config file: 1.\"], ['2025-10-27 09:16:24', 1761556584872.7097, 'freqtrade.resolvers.strategy_resolver', 'INFO', \"Strategy using minimal_roi: {'0': 1}\"], ['2025-10-27 09:16:24', 1761556584872.9062, 'freqtrade.resolvers.strategy_resolver', 'INFO', 'Strategy using timeframe: 1h'], ['2025-10-27 09:16:24', 1761556584873.0947, 'freqtrade.resolvers.strategy_resolver', 'INFO', 'Strategy using stoploss: -0.5'], ['2025-10-27 09:16:24', 1761556584873.2896, 'freqtrade.resolvers.strategy_resolver', 'INFO', 'Strategy using trailing_stop: False'], ['2025-10-27 09:16:24', 1761556584873.476, 'freqtrade.resolvers.strategy_resolver', 'INFO', 'Strategy using trailing_stop_positive_offset: 0.0'], ['2025-10-27 09:16:24', 1761556584873.6868, 'freqtrade.resolvers.strategy_resolver', 'INFO', 'Strategy using trailing_only_offset_is_reached: False'], ['2025-10-27 09:16:24', 1761556584873.887, 'freqtrade.resolvers.strategy_resolver', 'INFO', 'Strategy using use_custom_stoploss: False'], ['2025-10-27 09:16:24', 1761556584874.0793, 'freqtrade.resolvers.strategy_resolver', 'INFO', 'Strategy using process_only_new_candles: True'], ['2025-10-27 09:16:24', 1761556584874.2769, 'freqtrade.resolvers.strategy_resolver', 'INFO', \"Strategy using order_types: {'entry': 'limit', 'exit': 'limit', 'stoploss': 'limit', 'stoploss_on_exchange': False, 'stoploss_on_exchange_interval': 60, 'emergency_exit': 'market'}\"], ['2025-10-27 09:16:24', 1761556584874.516, 'freqtrade.resolvers.strategy_resolver', 'INFO', \"Strategy using order_time_in_force: {'entry': 'GTC', 'exit': 'GTC'}\"], ['2025-10-27 09:16:24', 1761556584874.7146, 'freqtrade.resolvers.strategy_resolver', 'INFO', 'Strategy using stake_currency: USDT'], ['2025-10-27 09:16:24', 1761556584874.9045, 'freqtrade.resolvers.strategy_resolver', 'INFO', 'Strategy using stake_amount: unlimited'], ['2025-10-27 09:16:24', 1761556584875.0957, 'freqtrade.resolvers.strategy_resolver', 'INFO', 'Strategy using startup_candle_count: 0'], ['2025-10-27 09:16:24', 1761556584875.2832, 'freqtrade.resolvers.strategy_resolver', 'INFO', \"Strategy using unfilledtimeout: {'entry': 10, 'exit': 10, 'exit_timeout_count': 0, 'unit': 'minutes'}\"], ['2025-10-27 09:16:24', 1761556584875.4807, 'freqtrade.resolvers.strategy_resolver', 'INFO', 'Strategy using use_exit_signal: False'], ['2025-10-27 09:16:24', 1761556584875.6667, 'freqtrade.resolvers.strategy_resolver', 'INFO', 'Strategy using exit_profit_only: False'], ['2025-10-27 09:16:24', 1761556584875.8772, 'freqtrade.resolvers.strategy_resolver', 'INFO', 'Strategy using ignore_roi_if_entry_signal: False'], ['2025-10-27 09:16:24', 1761556584876.0674, 'freqtrade.resolvers.strategy_resolver', 'INFO', 'Strategy using exit_profit_offset: 0.0'], ['2025-10-27 09:16:24', 1761556584876.2583, 'freqtrade.resolvers.strategy_resolver', 'INFO', 'Strategy using disable_dataframe_checks: True'], ['2025-10-27 09:16:24', 1761556584876.4548, 'freqtrade.resolvers.strategy_resolver', 'INFO', 'Strategy using ignore_buying_expired_candle_after: 0'], ['2025-10-27 09:16:24', 1761556584876.644, 'freqtrade.resolvers.strategy_resolver', 'INFO', 'Strategy using position_adjustment_enable: False'], ['2025-10-27 09:16:24', 1761556584876.8289, 'freqtrade.resolvers.strategy_resolver', 'INFO', 'Strategy using max_entry_position_adjustment: -1'], ['2025-10-27 09:16:24', 1761556584877.0193, 'freqtrade.resolvers.strategy_resolver', 'INFO', 'Strategy using max_open_trades: 1'], ['2025-10-27 09:16:24', 1761556584877.2441, 'freqtrade.configuration.config_validation', 'INFO', 'Validating configuration ...'], ['2025-10-27 09:16:24', 1761556584884.9834, 'freqtrade.wallets', 'INFO', 'Wallets synced.'], ['2025-10-27 09:16:24', 1761556584885.3135, 'freqtrade.rpc.rpc_manager', 'INFO', 'Enabling rpc.api_server'], ['2025-10-27 09:16:24', 1761556584918.815, 'freqtrade.rpc.api_server.webserver', 'INFO', 'Starting HTTP Server at 0.0.0.0:8080'], ['2025-10-27 09:16:24', 1761556584919.139, 'freqtrade.rpc.api_server.webserver', 'INFO', 'Starting Local Rest Server.'], ['2025-10-27 09:16:24', 1761556584919.7349, 'uvicorn.error', 'INFO', 'Started server process [1]'], ['2025-10-27 09:16:24', 1761556584920.0469, 'uvicorn.error', 'INFO', 'Waiting for application startup.'], ['2025-10-27 09:16:24', 1761556584920.4124, 'uvicorn.error', 'INFO', 'Application startup complete.'], ['2025-10-27 09:16:24', 1761556584920.7515, 'uvicorn.error', 'INFO', 'Uvicorn running on http://0.0.0.0:8080 (Press CTRL+C to quit)'], ['2025-10-27 09:16:24', 1761556584929.03, 'freqtrade.resolvers.iresolver', 'INFO', \"Using resolved pairlist StaticPairList from '/freqtrade/freqtrade/plugins/pairlist/StaticPairList.py'...\"], ['2025-10-27 09:16:24', 1761556584929.373, 'freqtrade.freqtradebot', 'INFO', 'Starting initial pairlist refresh'], ['2025-10-27 09:16:24', 1761556584934.8545, 'freqtrade.plugins.pairlistmanager', 'INFO', 'Whitelist with 0 pairs: []'], ['2025-10-27 09:16:24', 1761556584935.135, 'freqtrade.freqtradebot', 'INFO', 'Initial Pairlist refresh took 0.01s'], ['2025-10-27 09:16:24', 1761556584935.6667, 'freqtrade.strategy.hyper', 'INFO', 'No params for buy found, using default values.'], ['2025-10-27 09:16:24', 1761556584935.976, 'freqtrade.strategy.hyper', 'INFO', 'No params for sell found, using default values.'], ['2025-10-27 09:16:24', 1761556584936.2605, 'freqtrade.strategy.hyper', 'INFO', 'No params for protection found, using default values.'], ['2025-10-27 09:16:24', 1761556584936.532, 'freqtrade.plugins.protectionmanager', 'INFO', 'No protection Handlers defined.'], ['2025-10-27 09:16:24', 1761556584936.7449, 'freqtrade.rpc.rpc_manager', 'INFO', \"Sending rpc message: {'type': status, 'status': 'stopped after config reloaded'}\"], ['2025-10-27 09:16:24', 1761556584936.967, 'freqtrade.worker', 'INFO', 'Changing state from RELOAD_CONFIG to: STOPPED'], ['2025-10-27 09:16:29', 1761556589937.6187, 'freqtrade.worker', 'INFO', \"Bot heartbeat. PID=1, version='2025.7', state='STOPPED'\"], ['2025-10-27 09:17:29', 1761556649940.4639, 'freqtrade.worker', 'INFO', \"Bot heartbeat. PID=1, version='2025.7', state='STOPPED'\"], ['2025-10-27 09:18:29', 1761556709943.7942, 'freqtrade.worker', 'INFO', \"Bot heartbeat. PID=1, version='2025.7', state='STOPPED'\"]]}\n"
     ]
    }
   ],
   "source": [
    "result=binance_bot.logs()\n",
    "print(result)"
   ],
   "metadata": {
    "collapsed": false,
    "ExecuteTime": {
     "end_time": "2025-10-27T09:19:24.390136Z",
     "start_time": "2025-10-27T09:19:24.382671Z"
    }
   },
   "id": "e78c14b0d3cb7de0",
   "execution_count": 12
  },
  {
   "cell_type": "code",
   "outputs": [
    {
     "name": "stdout",
     "output_type": "stream",
     "text": [
      "{'trades': [], 'trades_count': 0, 'offset': 0, 'total_trades': 0}\n"
     ]
    }
   ],
   "source": [
    "result=binance_bot.trades()\n",
    "print(result)"
   ],
   "metadata": {
    "collapsed": false,
    "ExecuteTime": {
     "end_time": "2025-10-27T09:19:43.384210Z",
     "start_time": "2025-10-27T09:19:43.376402Z"
    }
   },
   "id": "b9a38718f5822ca9",
   "execution_count": 13
  },
  {
   "cell_type": "code",
   "outputs": [
    {
     "name": "stdout",
     "output_type": "stream",
     "text": [
      "{'whitelist': [], 'length': 0, 'method': ['StaticPairList']}\n"
     ]
    }
   ],
   "source": [
    "result=binance_bot.whitelist()\n",
    "print(result)"
   ],
   "metadata": {
    "collapsed": false,
    "ExecuteTime": {
     "end_time": "2025-10-27T09:20:13.378959Z",
     "start_time": "2025-10-27T09:20:13.370552Z"
    }
   },
   "id": "a1a9d4da7a81a549",
   "execution_count": 15
  },
  {
   "cell_type": "code",
   "outputs": [
    {
     "name": "stdout",
     "output_type": "stream",
     "text": [
      "{'blacklist': [], 'blacklist_expanded': [], 'errors': {}, 'length': 0, 'method': ['StaticPairList']}\n"
     ]
    }
   ],
   "source": [
    "result=binance_bot.blacklist()\n",
    "print(result)"
   ],
   "metadata": {
    "collapsed": false,
    "ExecuteTime": {
     "end_time": "2025-10-27T09:20:24.031367Z",
     "start_time": "2025-10-27T09:20:24.020412Z"
    }
   },
   "id": "5fea3217e1cd3cb",
   "execution_count": 16
  },
  {
   "cell_type": "code",
   "outputs": [
    {
     "name": "stdout",
     "output_type": "stream",
     "text": [
      "{'strategies': ['DummyStrategy']}\n"
     ]
    }
   ],
   "source": [
    "result=binance_bot.strategies()\n",
    "print(result)"
   ],
   "metadata": {
    "collapsed": false,
    "ExecuteTime": {
     "end_time": "2025-10-27T09:21:13.780321Z",
     "start_time": "2025-10-27T09:21:13.775246Z"
    }
   },
   "id": "db4123de578d976a",
   "execution_count": 17
  },
  {
   "cell_type": "code",
   "outputs": [
    {
     "name": "stdout",
     "output_type": "stream",
     "text": [
      "{'status': 'starting trader ...'}\n"
     ]
    }
   ],
   "source": [
    "result=binance_bot.start()\n",
    "print(result)"
   ],
   "metadata": {
    "collapsed": false,
    "ExecuteTime": {
     "end_time": "2025-10-27T09:21:37.231260Z",
     "start_time": "2025-10-27T09:21:37.222210Z"
    }
   },
   "id": "611bbde9de3d3f86",
   "execution_count": 19
  },
  {
   "cell_type": "code",
   "outputs": [
    {
     "name": "stdout",
     "output_type": "stream",
     "text": [
      "{'detail': 'Bot is not in the correct state.'}\n"
     ]
    }
   ],
   "source": [
    "result=binance_bot.pairlists_available()\n",
    "print(result)"
   ],
   "metadata": {
    "collapsed": false,
    "ExecuteTime": {
     "end_time": "2025-10-27T09:22:10.025438Z",
     "start_time": "2025-10-27T09:22:10.018789Z"
    }
   },
   "id": "29d6233bec368abf",
   "execution_count": 23
  },
  {
   "cell_type": "code",
   "outputs": [
    {
     "name": "stdout",
     "output_type": "stream",
     "text": [
      "{}\n"
     ]
    }
   ],
   "source": [
    "result=binance_bot.plot_config()\n",
    "print(result)"
   ],
   "metadata": {
    "collapsed": false,
    "ExecuteTime": {
     "end_time": "2025-10-27T09:22:10.848291Z",
     "start_time": "2025-10-27T09:22:10.840979Z"
    }
   },
   "id": "5e5402b084eb062d",
   "execution_count": 24
  },
  {
   "cell_type": "code",
   "outputs": [
    {
     "name": "stdout",
     "output_type": "stream",
     "text": [
      "{'length': 0, 'pairs': [], 'pair_interval': []}\n"
     ]
    }
   ],
   "source": [
    "result=binance_bot.available_pairs()\n",
    "print(result)"
   ],
   "metadata": {
    "collapsed": false,
    "ExecuteTime": {
     "end_time": "2025-10-27T09:22:11.407966Z",
     "start_time": "2025-10-27T09:22:11.402091Z"
    }
   },
   "id": "ab6c8f4118f8504b",
   "execution_count": 25
  },
  {
   "cell_type": "code",
   "outputs": [
    {
     "name": "stdout",
     "output_type": "stream",
     "text": [
      "{'cpu_pct': [1.0, 1.0, 1.0, 0.0, 2.0, 0.0, 0.0, 0.0, 6.9, 0.0, 4.1, 0.0, 5.9, 1.0, 3.0, 1.0, 2.0, 1.0, 0.0, 2.0, 0.0, 1.0, 1.0, 0.0, 1.0, 0.0, 1.0, 0.0, 0.0, 0.0, 0.0, 0.0], 'ram_pct': 12.1}\n"
     ]
    }
   ],
   "source": [
    "result=binance_bot.sysinfo()\n",
    "print(result)"
   ],
   "metadata": {
    "collapsed": false,
    "ExecuteTime": {
     "end_time": "2025-10-27T09:22:56.091572Z",
     "start_time": "2025-10-27T09:22:55.079002Z"
    }
   },
   "id": "aa5b0c113315fa6c",
   "execution_count": 27
  },
  {
   "cell_type": "code",
   "outputs": [
    {
     "name": "stdout",
     "output_type": "stream",
     "text": [
      "{'last_process': '2025-10-27T09:23:04.999077Z', 'last_process_ts': 1761556984, 'bot_start': '2025-10-27T09:06:34.375102Z', 'bot_start_ts': 1761555994, 'bot_startup': '2025-10-27T09:21:39.962327Z', 'bot_startup_ts': 1761556899}\n"
     ]
    }
   ],
   "source": [
    "result=binance_bot.health()\n",
    "print(result)"
   ],
   "metadata": {
    "collapsed": false,
    "ExecuteTime": {
     "end_time": "2025-10-27T09:23:06.407038Z",
     "start_time": "2025-10-27T09:23:06.400845Z"
    }
   },
   "id": "631327f55e1b58fb",
   "execution_count": 28
  },
  {
   "cell_type": "code",
   "outputs": [],
   "source": [],
   "metadata": {
    "collapsed": false
   },
   "id": "590d586bf42093b0"
  }
 ],
 "metadata": {
  "kernelspec": {
   "display_name": "Python 3",
   "language": "python",
   "name": "python3"
  },
  "language_info": {
   "codemirror_mode": {
    "name": "ipython",
    "version": 2
   },
   "file_extension": ".py",
   "mimetype": "text/x-python",
   "name": "python",
   "nbconvert_exporter": "python",
   "pygments_lexer": "ipython2",
   "version": "2.7.6"
  }
 },
 "nbformat": 4,
 "nbformat_minor": 5
}
